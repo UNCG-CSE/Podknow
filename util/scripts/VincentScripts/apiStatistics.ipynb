{
 "cells": [
  {
   "cell_type": "code",
   "execution_count": 1,
   "metadata": {},
   "outputs": [],
   "source": [
    "import json\n",
    "from glob import glob\n",
    "paths = glob(\"C:\\\\Users\\\\vince\\\\Desktop\\\\DataScience Project repo\\\\data\\\\transcripts\\\\gcstt\\\\raw\\\\2019-10-30\\\\*.txt\")"
   ]
  },
  {
   "cell_type": "markdown",
   "metadata": {},
   "source": [
    "This page is used to display the statistic of Total charge for each podcasts"
   ]
  },
  {
   "cell_type": "code",
   "execution_count": 3,
   "metadata": {},
   "outputs": [],
   "source": [
    "lengthArray = []\n",
    "for path in paths:\n",
    "    with open(path,\"r\") as file:\n",
    "        data = file.read()\n",
    "        jsonFile = json.loads(data)\n",
    "        lengthArray.append([jsonFile[\"Stats\"][\"PodcastID\"],jsonFile[\"Stats\"][\"AudioLength\"],jsonFile[\"Stats\"][\"AudioLength\"]/15*0.006])"
   ]
  },
  {
   "cell_type": "code",
   "execution_count": 4,
   "metadata": {},
   "outputs": [],
   "source": [
    "import pandas as pd\n",
    "df = pd.DataFrame(lengthArray)"
   ]
  },
  {
   "cell_type": "code",
   "execution_count": 5,
   "metadata": {},
   "outputs": [],
   "source": [
    "df.columns = [\"ID\",\"Audio Length\",\"Total Charge\"]"
   ]
  },
  {
   "cell_type": "code",
   "execution_count": 6,
   "metadata": {
    "scrolled": false
   },
   "outputs": [
    {
     "data": {
      "text/html": [
       "<div>\n",
       "<style scoped>\n",
       "    .dataframe tbody tr th:only-of-type {\n",
       "        vertical-align: middle;\n",
       "    }\n",
       "\n",
       "    .dataframe tbody tr th {\n",
       "        vertical-align: top;\n",
       "    }\n",
       "\n",
       "    .dataframe thead th {\n",
       "        text-align: right;\n",
       "    }\n",
       "</style>\n",
       "<table border=\"1\" class=\"dataframe\">\n",
       "  <thead>\n",
       "    <tr style=\"text-align: right;\">\n",
       "      <th></th>\n",
       "      <th>ID</th>\n",
       "      <th>Audio Length</th>\n",
       "      <th>Total Charge</th>\n",
       "    </tr>\n",
       "  </thead>\n",
       "  <tbody>\n",
       "    <tr>\n",
       "      <td>0</td>\n",
       "      <td>1012570406.mp3</td>\n",
       "      <td>3608.607347</td>\n",
       "      <td>1.443443</td>\n",
       "    </tr>\n",
       "    <tr>\n",
       "      <td>1</td>\n",
       "      <td>1028908750.mp3</td>\n",
       "      <td>2665.776750</td>\n",
       "      <td>1.066311</td>\n",
       "    </tr>\n",
       "    <tr>\n",
       "      <td>2</td>\n",
       "      <td>1042368254.mp3</td>\n",
       "      <td>2792.620256</td>\n",
       "      <td>1.117048</td>\n",
       "    </tr>\n",
       "    <tr>\n",
       "      <td>3</td>\n",
       "      <td>1043699613.mp3</td>\n",
       "      <td>7423.346938</td>\n",
       "      <td>2.969339</td>\n",
       "    </tr>\n",
       "    <tr>\n",
       "      <td>4</td>\n",
       "      <td>1044196249.mp3</td>\n",
       "      <td>2458.774500</td>\n",
       "      <td>0.983510</td>\n",
       "    </tr>\n",
       "    <tr>\n",
       "      <td>...</td>\n",
       "      <td>...</td>\n",
       "      <td>...</td>\n",
       "      <td>...</td>\n",
       "    </tr>\n",
       "    <tr>\n",
       "      <td>128</td>\n",
       "      <td>929121341.mp3</td>\n",
       "      <td>4805.744000</td>\n",
       "      <td>1.922298</td>\n",
       "    </tr>\n",
       "    <tr>\n",
       "      <td>129</td>\n",
       "      <td>944925529.mp3</td>\n",
       "      <td>4130.435878</td>\n",
       "      <td>1.652174</td>\n",
       "    </tr>\n",
       "    <tr>\n",
       "      <td>130</td>\n",
       "      <td>953290300.mp3</td>\n",
       "      <td>1221.002063</td>\n",
       "      <td>0.488401</td>\n",
       "    </tr>\n",
       "    <tr>\n",
       "      <td>131</td>\n",
       "      <td>978052928.mp3</td>\n",
       "      <td>2245.119969</td>\n",
       "      <td>0.898048</td>\n",
       "    </tr>\n",
       "    <tr>\n",
       "      <td>132</td>\n",
       "      <td>998568017.mp3</td>\n",
       "      <td>121.921438</td>\n",
       "      <td>0.048769</td>\n",
       "    </tr>\n",
       "  </tbody>\n",
       "</table>\n",
       "<p>133 rows × 3 columns</p>\n",
       "</div>"
      ],
      "text/plain": [
       "                 ID  Audio Length  Total Charge\n",
       "0    1012570406.mp3   3608.607347      1.443443\n",
       "1    1028908750.mp3   2665.776750      1.066311\n",
       "2    1042368254.mp3   2792.620256      1.117048\n",
       "3    1043699613.mp3   7423.346938      2.969339\n",
       "4    1044196249.mp3   2458.774500      0.983510\n",
       "..              ...           ...           ...\n",
       "128   929121341.mp3   4805.744000      1.922298\n",
       "129   944925529.mp3   4130.435878      1.652174\n",
       "130   953290300.mp3   1221.002063      0.488401\n",
       "131   978052928.mp3   2245.119969      0.898048\n",
       "132   998568017.mp3    121.921438      0.048769\n",
       "\n",
       "[133 rows x 3 columns]"
      ]
     },
     "execution_count": 6,
     "metadata": {},
     "output_type": "execute_result"
    }
   ],
   "source": [
    "df"
   ]
  },
  {
   "cell_type": "code",
   "execution_count": 7,
   "metadata": {},
   "outputs": [],
   "source": [
    "import matplotlib.pyplot as plt\n",
    "import numpy as np\n",
    "colors = (0,0,0)"
   ]
  },
  {
   "cell_type": "markdown",
   "metadata": {},
   "source": [
    "Line Graph"
   ]
  },
  {
   "cell_type": "code",
   "execution_count": 8,
   "metadata": {},
   "outputs": [
    {
     "name": "stderr",
     "output_type": "stream",
     "text": [
      "'c' argument looks like a single numeric RGB or RGBA sequence, which should be avoided as value-mapping will have precedence in case its length matches with 'x' & 'y'.  Please use a 2-D array with a single row if you really want to specify the same RGB or RGBA value for all points.\n"
     ]
    },
    {
     "data": {
      "image/png": "[encoded data removed]",
      "text/plain": [
       "<Figure size 432x288 with 1 Axes>"
      ]
     },
     "metadata": {
      "needs_background": "light"
     },
     "output_type": "display_data"
    }
   ],
   "source": [
    "plt.scatter(df[\"Audio Length\"], df[\"Total Charge\"], c=colors, alpha=0.5)\n",
    "plt.title(\"Scatter plot for  Audio Length vs. Total Charge\")\n",
    "plt.xlabel(\"Audio Length\")\n",
    "plt.ylabel(\"Total Charge\")\n",
    "plt.show()"
   ]
  },
  {
   "cell_type": "markdown",
   "metadata": {},
   "source": [
    "Mean For each columns"
   ]
  },
  {
   "cell_type": "code",
   "execution_count": 9,
   "metadata": {},
   "outputs": [
    {
     "name": "stdout",
     "output_type": "stream",
     "text": [
      "Total Charge Mean:1.1029031027909777\n"
     ]
    }
   ],
   "source": [
    "print(\"Total Charge Mean:\"+str(np.mean(df[\"Total Charge\"])))"
   ]
  },
  {
   "cell_type": "markdown",
   "metadata": {},
   "source": [
    "Variance for each columns"
   ]
  },
  {
   "cell_type": "code",
   "execution_count": 10,
   "metadata": {},
   "outputs": [
    {
     "name": "stdout",
     "output_type": "stream",
     "text": [
      "Total Charge Variance:0.7774177286587396\n"
     ]
    }
   ],
   "source": [
    "print(\"Total Charge Variance:\" + str(np.var(df[\"Total Charge\"])))"
   ]
  },
  {
   "cell_type": "markdown",
   "metadata": {},
   "source": [
    "Median"
   ]
  },
  {
   "cell_type": "code",
   "execution_count": 11,
   "metadata": {},
   "outputs": [
    {
     "name": "stdout",
     "output_type": "stream",
     "text": [
      "Total Charge Median:1.0134778624\n"
     ]
    }
   ],
   "source": [
    "print(\"Total Charge Median:\" + str(np.median(df[\"Total Charge\"])))"
   ]
  },
  {
   "cell_type": "markdown",
   "metadata": {},
   "source": [
    "Standard Deviation"
   ]
  },
  {
   "cell_type": "code",
   "execution_count": 12,
   "metadata": {},
   "outputs": [
    {
     "name": "stdout",
     "output_type": "stream",
     "text": [
      "Total Charge std:0.8817129513955999\n"
     ]
    }
   ],
   "source": [
    "print(\"Total Charge std:\" + str(np.std(df[\"Total Charge\"])))"
   ]
  },
  {
   "cell_type": "markdown",
   "metadata": {},
   "source": [
    "Measures of Spread"
   ]
  },
  {
   "cell_type": "code",
   "execution_count": 13,
   "metadata": {},
   "outputs": [
    {
     "name": "stdout",
     "output_type": "stream",
     "text": [
      "Audio Length MOS:17623.0145\n"
     ]
    }
   ],
   "source": [
    "print(\"Audio Length MOS:\"+ str(max(df[\"Audio Length\"])-min(df[\"Audio Length\"])))"
   ]
  },
  {
   "cell_type": "code",
   "execution_count": 14,
   "metadata": {},
   "outputs": [
    {
     "name": "stdout",
     "output_type": "stream",
     "text": [
      "Total Charge MOS:7.049205800000001\n"
     ]
    }
   ],
   "source": [
    "print(\"Total Charge MOS:\" + str(max(df[\"Total Charge\"])-min(df[\"Total Charge\"])))"
   ]
  },
  {
   "cell_type": "markdown",
   "metadata": {},
   "source": [
    "Quartile focus on total charge"
   ]
  },
  {
   "cell_type": "code",
   "execution_count": 15,
   "metadata": {},
   "outputs": [
    {
     "data": {
      "text/plain": [
       "count    133.000000\n",
       "mean       1.102903\n",
       "std        0.885046\n",
       "min        0.000000\n",
       "25%        0.574004\n",
       "50%        1.013478\n",
       "75%        1.370843\n",
       "max        7.049206\n",
       "Name: Total Charge, dtype: float64"
      ]
     },
     "execution_count": 15,
     "metadata": {},
     "output_type": "execute_result"
    }
   ],
   "source": [
    "df[\"Total Charge\"].describe()"
   ]
  },
  {
   "cell_type": "markdown",
   "metadata": {},
   "source": [
    "Interquartile (IQR)"
   ]
  },
  {
   "cell_type": "code",
   "execution_count": 16,
   "metadata": {},
   "outputs": [
    {
     "data": {
      "text/plain": [
       "0.7968391644"
      ]
     },
     "execution_count": 16,
     "metadata": {},
     "output_type": "execute_result"
    }
   ],
   "source": [
    "df[\"Total Charge\"].quantile(0.75) - df[\"Total Charge\"].quantile(0.25)"
   ]
  },
  {
   "cell_type": "markdown",
   "metadata": {},
   "source": [
    "Ploting distribution"
   ]
  },
  {
   "cell_type": "code",
   "execution_count": 17,
   "metadata": {},
   "outputs": [
    {
     "data": {
      "text/plain": [
       "<matplotlib.axes._subplots.AxesSubplot at 0x15a3cbf9348>"
      ]
     },
     "execution_count": 17,
     "metadata": {},
     "output_type": "execute_result"
    },
    {
     "data": {
      "image/png": "[encoded data removed]",
      "text/plain": [
       "<Figure size 432x288 with 1 Axes>"
      ]
     },
     "metadata": {
      "needs_background": "light"
     },
     "output_type": "display_data"
    }
   ],
   "source": [
    "df[\"Total Charge\"].plot(kind=\"density\",xlim=(0,max(df[\"Total Charge\"])))"
   ]
  },
  {
   "cell_type": "markdown",
   "metadata": {},
   "source": [
    "CDF at 25% quantile"
   ]
  },
  {
   "cell_type": "code",
   "execution_count": 18,
   "metadata": {},
   "outputs": [],
   "source": [
    "import scipy.stats as stats"
   ]
  },
  {
   "cell_type": "code",
   "execution_count": 19,
   "metadata": {},
   "outputs": [
    {
     "data": {
      "text/plain": [
       "0.1784973333333333"
      ]
     },
     "execution_count": 19,
     "metadata": {},
     "output_type": "execute_result"
    }
   ],
   "source": [
    "stats.uniform.cdf(x=0.535492,loc=0, scale=3)"
   ]
  },
  {
   "cell_type": "markdown",
   "metadata": {},
   "source": [
    "PPF"
   ]
  },
  {
   "cell_type": "code",
   "execution_count": 20,
   "metadata": {},
   "outputs": [
    {
     "data": {
      "text/plain": [
       "0.75"
      ]
     },
     "execution_count": 20,
     "metadata": {},
     "output_type": "execute_result"
    }
   ],
   "source": [
    "stats.uniform.ppf(q=0.25,loc=0, scale = 3)"
   ]
  },
  {
   "cell_type": "markdown",
   "metadata": {},
   "source": [
    "PDF"
   ]
  },
  {
   "cell_type": "code",
   "execution_count": 21,
   "metadata": {},
   "outputs": [
    {
     "name": "stdout",
     "output_type": "stream",
     "text": [
      "Density at x value 1.4434429388\n",
      "0.1418599525069902\n",
      "Density at x value 1.0663107\n",
      "0.1418599525069902\n",
      "Density at x value 1.1170481024\n",
      "0.1418599525069902\n",
      "Density at x value 2.9693387752\n",
      "0.1418599525069902\n",
      "Density at x value 0.9835098\n",
      "0.1418599525069902\n",
      "Density at x value 1.4925954124\n",
      "0.1418599525069902\n",
      "Density at x value 0.30279412520000004\n",
      "0.1418599525069902\n",
      "Density at x value 1.3190686268\n",
      "0.1418599525069902\n",
      "Density at x value 4.3846208\n",
      "0.1418599525069902\n",
      "Density at x value 0.5788421024\n",
      "0.1418599525069902\n",
      "Density at x value 2.6083727999999997\n",
      "0.1418599525069902\n",
      "Density at x value 0.6732904488\n",
      "0.1418599525069902\n",
      "Density at x value 0.7593882752000001\n",
      "0.1418599525069902\n",
      "Density at x value 1.2734405024\n",
      "0.1418599525069902\n",
      "Density at x value 0.7013835752\n",
      "0.1418599525069902\n",
      "Density at x value 1.0134778624\n",
      "0.1418599525069902\n",
      "Density at x value 0.8769932887999999\n",
      "0.1418599525069902\n",
      "Density at x value 0.32221517520000004\n",
      "0.1418599525069902\n",
      "Density at x value 0.0663247\n",
      "0.1418599525069902\n",
      "Density at x value 1.3491617832\n",
      "0.1418599525069902\n",
      "Density at x value 1.0600802267999998\n",
      "0.1418599525069902\n",
      "Density at x value 1.3441056752\n",
      "0.1418599525069902\n",
      "Density at x value 1.2763825999999998\n",
      "0.1418599525069902\n",
      "Density at x value 3.2197276268\n",
      "0.1418599525069902\n",
      "Density at x value 1.6197903424\n",
      "0.1418599525069902\n",
      "Density at x value 2.1218144000000003\n",
      "0.1418599525069902\n",
      "Density at x value 1.7083036668000002\n",
      "0.1418599525069902\n",
      "Density at x value 2.1454784\n",
      "0.1418599525069902\n",
      "Density at x value 0.7074167512\n",
      "0.1418599525069902\n",
      "Density at x value 1.5292814000000001\n",
      "0.1418599525069902\n",
      "Density at x value 1.0587637376\n",
      "0.1418599525069902\n",
      "Density at x value 0.1118249752\n",
      "0.1418599525069902\n",
      "Density at x value 1.1932767752\n",
      "0.1418599525069902\n",
      "Density at x value 0.37199527520000003\n",
      "0.1418599525069902\n",
      "Density at x value 1.58663895\n",
      "0.1418599525069902\n",
      "Density at x value 2.1596264356\n",
      "0.1418599525069902\n",
      "Density at x value 0.9699578623999999\n",
      "0.1418599525069902\n",
      "Density at x value 1.16195785\n",
      "0.1418599525069902\n",
      "Density at x value 1.16195785\n",
      "0.1418599525069902\n",
      "Density at x value 0.9616718000000001\n",
      "0.1418599525069902\n",
      "Density at x value 0.6709811512\n",
      "0.1418599525069902\n",
      "Density at x value 0.13001665\n",
      "0.1418599525069902\n",
      "Density at x value 0.6862576132\n",
      "0.1418599525069902\n",
      "Density at x value 1.5695823668000002\n",
      "0.1418599525069902\n",
      "Density at x value 1.0045857252000001\n",
      "0.1418599525069902\n",
      "Density at x value 0.5386971428\n",
      "0.1418599525069902\n",
      "Density at x value 1.3708434\n",
      "0.1418599525069902\n",
      "Density at x value 0.78913828\n",
      "0.1418599525069902\n",
      "Density at x value 0.7373217912000001\n",
      "0.1418599525069902\n",
      "Density at x value 0.7052538268\n",
      "0.1418599525069902\n",
      "Density at x value 2.6838569\n",
      "0.1418599525069902\n",
      "Density at x value 2.703184\n",
      "0.1418599525069902\n",
      "Density at x value 0.69553625\n",
      "0.1418599525069902\n",
      "Density at x value 0.3840313252\n",
      "0.1418599525069902\n",
      "Density at x value 0.3682533876\n",
      "0.1418599525069902\n",
      "Density at x value 0.7372799512\n",
      "0.1418599525069902\n",
      "Density at x value 1.09653684\n",
      "0.1418599525069902\n",
      "Density at x value 1.7354144\n",
      "0.1418599525069902\n",
      "Density at x value 0.13718465000000002\n",
      "0.1418599525069902\n",
      "Density at x value 0.1267356668\n",
      "0.1418599525069902\n",
      "Density at x value 0.9257472\n",
      "0.1418599525069902\n",
      "Density at x value 1.1916852268\n",
      "0.1418599525069902\n",
      "Density at x value 0.1839647252\n",
      "0.1418599525069902\n",
      "Density at x value 1.4803800268000002\n",
      "0.1418599525069902\n",
      "Density at x value 1.2776288000000002\n",
      "0.1418599525069902\n",
      "Density at x value 0.8425847512000001\n",
      "0.1418599525069902\n",
      "Density at x value 1.76288\n",
      "0.1418599525069902\n",
      "Density at x value 1.5641180500000003\n",
      "0.1418599525069902\n",
      "Density at x value 0.08821028\n",
      "0.1418599525069902\n",
      "Density at x value 0.1357113252\n",
      "0.1418599525069902\n",
      "Density at x value 0.1357113252\n",
      "0.1418599525069902\n",
      "Density at x value 0.73619329\n",
      "0.1418599525069902\n",
      "Density at x value 0.102849306\n",
      "0.1418599525069902\n",
      "Density at x value 1.7316884756\n",
      "0.1418599525069902\n",
      "Density at x value 0.13956702240000002\n",
      "0.1418599525069902\n",
      "Density at x value 0.30124407560000005\n",
      "0.1418599525069902\n",
      "Density at x value 0.0408482756\n",
      "0.1418599525069902\n",
      "Density at x value 1.3276264176\n",
      "0.1418599525069902\n",
      "Density at x value 1.4558354284\n",
      "0.1418599525069902\n",
      "Density at x value 1.3348779752\n",
      "0.1418599525069902\n",
      "Density at x value 1.1461694624\n",
      "0.1418599525069902\n",
      "Density at x value 0.9238256328\n",
      "0.1418599525069902\n",
      "Density at x value 0.48518790240000004\n",
      "0.1418599525069902\n",
      "Density at x value 0.7113142624\n",
      "0.1418599525069902\n",
      "Density at x value 1.2085185299999999\n",
      "0.1418599525069902\n",
      "Density at x value 0.13611884999999999\n",
      "0.1418599525069902\n",
      "Density at x value 2.2110772\n",
      "0.1418599525069902\n",
      "Density at x value 0.19166562680000002\n",
      "0.1418599525069902\n",
      "Density at x value 1.1431183511999998\n",
      "0.1418599525069902\n",
      "Density at x value 1.4088254692\n",
      "0.1418599525069902\n",
      "Density at x value 1.3042519752000001\n",
      "0.1418599525069902\n",
      "Density at x value 0.02658375\n",
      "0.1418599525069902\n",
      "Density at x value 1.0182112375999999\n",
      "0.1418599525069902\n",
      "Density at x value 0.9986611999999998\n",
      "0.1418599525069902\n",
      "Density at x value 1.0745312268\n",
      "0.1418599525069902\n",
      "Density at x value 0.64491135\n",
      "0.1418599525069902\n",
      "Density at x value 0.5740042356\n",
      "0.1418599525069902\n",
      "Density at x value 0.06419853319999999\n",
      "0.1418599525069902\n",
      "Density at x value 0.8888095751999999\n",
      "0.1418599525069902\n",
      "Density at x value 0.7031849688\n",
      "0.1418599525069902\n",
      "Density at x value 0.9978148668\n",
      "0.1418599525069902\n",
      "Density at x value 0.5280113599999999\n",
      "0.1418599525069902\n",
      "Density at x value 0.0\n",
      "0.1418599525069902\n",
      "Density at x value 0.6920084268\n",
      "0.1418599525069902\n",
      "Density at x value 0.3846687348\n",
      "0.1418599525069902\n",
      "Density at x value 7.049205800000001\n",
      "0.1418599525069902\n",
      "Density at x value 1.4207951752\n",
      "0.1418599525069902\n",
      "Density at x value 1.1695286252\n",
      "0.1418599525069902\n",
      "Density at x value 1.2487545376\n",
      "0.1418599525069902\n",
      "Density at x value 1.291222204\n",
      "0.1418599525069902\n",
      "Density at x value 0.3151934668\n",
      "0.1418599525069902\n",
      "Density at x value 1.2872097752\n",
      "0.1418599525069902\n",
      "Density at x value 0.5034962252\n",
      "0.1418599525069902\n",
      "Density at x value 1.3492871024\n",
      "0.1418599525069902\n",
      "Density at x value 0.8836597552\n",
      "0.1418599525069902\n",
      "Density at x value 0.8688748268\n",
      "0.1418599525069902\n",
      "Density at x value 1.2649848000000001\n",
      "0.1418599525069902\n",
      "Density at x value 2.5286561000000005\n",
      "0.1418599525069902\n",
      "Density at x value 1.2497073\n",
      "0.1418599525069902\n",
      "Density at x value 1.8013725751999998\n",
      "0.1418599525069902\n",
      "Density at x value 1.6729655023999999\n",
      "0.1418599525069902\n",
      "Density at x value 1.78178165\n",
      "0.1418599525069902\n",
      "Density at x value 0.9723026283999999\n",
      "0.1418599525069902\n",
      "Density at x value 1.1519895511999998\n",
      "0.1418599525069902\n",
      "Density at x value 0.5344235104\n",
      "0.1418599525069902\n",
      "Density at x value 1.7610292268\n",
      "0.1418599525069902\n",
      "Density at x value 1.1952483264\n",
      "0.1418599525069902\n",
      "Density at x value 0.50734625\n",
      "0.1418599525069902\n",
      "Density at x value 1.9222975999999998\n",
      "0.1418599525069902\n",
      "Density at x value 1.6521743512\n",
      "0.1418599525069902\n",
      "Density at x value 0.48840082519999994\n",
      "0.1418599525069902\n",
      "Density at x value 0.8980479876\n",
      "0.1418599525069902\n",
      "Density at x value 0.0487685752\n",
      "0.1418599525069902\n"
     ]
    }
   ],
   "source": [
    "for x in df[\"Total Charge\"]:\n",
    "    print(\"Density at x value \" + str(x))\n",
    "    print(stats.uniform.pdf(x, loc=min(df[\"Total Charge\"]),scale = max(df[\"Total Charge\"])))"
   ]
  },
  {
   "cell_type": "markdown",
   "metadata": {},
   "source": [
    "Histogram"
   ]
  },
  {
   "cell_type": "code",
   "execution_count": 22,
   "metadata": {},
   "outputs": [
    {
     "data": {
      "text/plain": [
       "<matplotlib.axes._subplots.AxesSubplot at 0x15a3d7c8ec8>"
      ]
     },
     "execution_count": 22,
     "metadata": {},
     "output_type": "execute_result"
    },
    {
     "data": {
      "image/png": "[encoded data removed]",
      "text/plain": [
       "<Figure size 432x288 with 1 Axes>"
      ]
     },
     "metadata": {
      "needs_background": "light"
     },
     "output_type": "display_data"
    }
   ],
   "source": [
    "df[\"Total Charge\"].hist()"
   ]
  },
  {
   "cell_type": "markdown",
   "metadata": {},
   "source": [
    "The above Histogram is skweded to the right\n",
    "\n",
    "Since MLE has really complicated statiscial model, therefore, we will only use MoM and KDE to display the distribution models"
   ]
  },
  {
   "cell_type": "code",
   "execution_count": 23,
   "metadata": {},
   "outputs": [],
   "source": [
    "from scipy.stats.distributions import gamma\n",
    "from scipy.stats import kde\n",
    "from scipy.optimize import newton\n",
    "from scipy.special import psi, polygamma"
   ]
  },
  {
   "cell_type": "code",
   "execution_count": 24,
   "metadata": {},
   "outputs": [
    {
     "data": {
      "text/plain": [
       "<matplotlib.legend.Legend at 0x15a3e8e4708>"
      ]
     },
     "execution_count": 24,
     "metadata": {},
     "output_type": "execute_result"
    },
    {
     "data": {
      "image/png": "[encoded data removed]",
      "text/plain": [
       "<Figure size 864x576 with 1 Axes>"
      ]
     },
     "metadata": {
      "needs_background": "light"
     },
     "output_type": "display_data"
    }
   ],
   "source": [
    "alpha = df[\"Total Charge\"].mean()**2/df[\"Total Charge\"].var()\n",
    "beta = df[\"Total Charge\"].var()/df[\"Total Charge\"].mean()\n",
    "x = np.linspace(0,max(df[\"Total Charge\"]))\n",
    "df[\"Total Charge\"].hist(density=True, bins = 50, ec='black', figsize=(12,8))\n",
    "density = kde.gaussian_kde(df[\"Total Charge\"], bw_method=None)\n",
    "legend1, = plt.plot(x, gamma.pdf(x,alpha,beta), \"m--\", label=\"Method of moment\")\n",
    "legend3, = plt.plot(np.linspace(0, max(df[\"Total Charge\"])), density(np.linspace(0, max(df[\"Total Charge\"]))), 'y--', label=\"Total Charge Kernel Density Estimation\")\n",
    "plt.legend(handles=[legend1,legend3])"
   ]
  },
  {
   "cell_type": "markdown",
   "metadata": {},
   "source": [
    "Confidence Interval"
   ]
  },
  {
   "cell_type": "code",
   "execution_count": 76,
   "metadata": {},
   "outputs": [
    {
     "name": "stdout",
     "output_type": "stream",
     "text": [
      "Confidence Interval:\n",
      "(0.8263103074153486, 1.07993605387354)\n"
     ]
    }
   ],
   "source": [
    "import math as math\n",
    "mean = df[\"Total Charge\"].mean()\n",
    "z_critical = stats.norm.ppf(q = 0.975)\n",
    "\n",
    "std = df[\"Total Charge\"].std()\n",
    "marginOfError = z_critical * (std/math.sqrt(len(df[\"Total Charge\"])))\n",
    "confidenceInterval = (mean - marginOfError, mean+marginOfError)\n",
    "print(\"Confidence Interval:\")\n",
    "print(confidenceInterval)"
   ]
  },
  {
   "cell_type": "markdown",
   "metadata": {},
   "source": [
    "Hypothesis Testing:\n",
    "\n",
    "Majority of the podcast cost lies between 0.0 dollar to 1.5 dollar.\n",
    "\n",
    "H0: The podcast cost is uniformly distributed.\n",
    "\n",
    "H1: The probability of paying less than 1.5 dollar per podcast is high."
   ]
  },
  {
   "cell_type": "code",
   "execution_count": null,
   "metadata": {},
   "outputs": [],
   "source": []
  }
 ],
 "metadata": {
  "kernelspec": {
   "display_name": "Python 3",
   "language": "python",
   "name": "python3"
  },
  "language_info": {
   "codemirror_mode": {
    "name": "ipython",
    "version": 3
   },
   "file_extension": ".py",
   "mimetype": "text/x-python",
   "name": "python",
   "nbconvert_exporter": "python",
   "pygments_lexer": "ipython3",
   "version": "3.7.4"
  }
 },
 "nbformat": 4,
 "nbformat_minor": 2
}
