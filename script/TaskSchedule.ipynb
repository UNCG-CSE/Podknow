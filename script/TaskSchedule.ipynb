{
 "cells": [
  {
   "cell_type": "code",
   "execution_count": 4,
   "metadata": {},
   "outputs": [],
   "source": [
    "import csv\n",
    "import pandas as pd"
   ]
  },
  {
   "cell_type": "code",
   "execution_count": 74,
   "metadata": {},
   "outputs": [
    {
     "name": "stdout",
     "output_type": "stream",
     "text": [
      "['podcast', 'Ear Biscuits', 'https://podcasts.apple.com/us/podcast/ear-biscuits/id717407884', '2019-09-02', 'Mythical & Ramble', '717407884']\n"
     ]
    }
   ],
   "source": [
    "with open(\"top200Podcast.csv\",\"r\") as csv_file:\n",
    "    reader = csv.reader(csv_file)\n",
    "    myList = list(reader)\n",
    "    header = myList[0]\n",
    "    del myList[0]\n",
    "    del header[0]\n",
    "    header.append(\"user\")\n",
    "    newList = []\n",
    "    for item in myList:\n",
    "        del item[0]\n",
    "        newList.append(item)\n",
    "    users = [\"Vincent\",\"Jamie\",\"Jeremy\",\"Chris\",\"Harini\",\"Aaron\"]\n",
    "    numbersOfPodcast = len(newList)/len(users)\n",
    "    remainding = len(newList)%len(users)\n",
    "    counter = 0\n",
    "    for j in range(len(users)):\n",
    "        for i in range(numbersOfPodcast):\n",
    "            newList[counter].append(users[0])\n",
    "            counter += 1\n",
    "            if i == numbersOfPodcast-1:\n",
    "                del users[0]\n",
    "    print(newList[counter].appen)"
   ]
  },
  {
   "cell_type": "code",
   "execution_count": null,
   "metadata": {},
   "outputs": [],
   "source": []
  }
 ],
 "metadata": {
  "kernelspec": {
   "display_name": "Python 2",
   "language": "python",
   "name": "python2"
  },
  "language_info": {
   "codemirror_mode": {
    "name": "ipython",
    "version": 2
   },
   "file_extension": ".py",
   "mimetype": "text/x-python",
   "name": "python",
   "nbconvert_exporter": "python",
   "pygments_lexer": "ipython2",
   "version": "2.7.16"
  }
 },
 "nbformat": 4,
 "nbformat_minor": 2
}
