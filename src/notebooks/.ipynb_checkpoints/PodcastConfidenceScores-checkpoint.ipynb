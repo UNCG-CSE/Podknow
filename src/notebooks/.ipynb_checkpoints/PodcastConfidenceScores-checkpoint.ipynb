{
 "cells": [
  {
   "cell_type": "markdown",
   "metadata": {},
   "source": [
    "# Loading Statistical Files"
   ]
  },
  {
   "cell_type": "code",
   "execution_count": 84,
   "metadata": {},
   "outputs": [
    {
     "name": "stdout",
     "output_type": "stream",
     "text": [
      "Expecting property name enclosed in double quotes: line 1 column 2 (char 1)\n",
      "Expecting property name enclosed in double quotes: line 1 column 2 (char 1)\n",
      "Expecting property name enclosed in double quotes: line 1 column 2 (char 1)\n",
      "Expecting property name enclosed in double quotes: line 1 column 2 (char 1)\n",
      "Expecting property name enclosed in double quotes: line 1 column 2 (char 1)\n",
      "Expecting property name enclosed in double quotes: line 1 column 2 (char 1)\n",
      "Expecting property name enclosed in double quotes: line 1 column 2 (char 1)\n",
      "Expecting property name enclosed in double quotes: line 1 column 2 (char 1)\n",
      "Expecting property name enclosed in double quotes: line 1 column 2 (char 1)\n",
      "Expecting property name enclosed in double quotes: line 1 column 2 (char 1)\n",
      "Expecting property name enclosed in double quotes: line 1 column 2 (char 1)\n",
      "Expecting property name enclosed in double quotes: line 1 column 2 (char 1)\n",
      "Expecting property name enclosed in double quotes: line 1 column 2 (char 1)\n",
      "Expecting property name enclosed in double quotes: line 1 column 2 (char 1)\n",
      "Expecting property name enclosed in double quotes: line 1 column 2 (char 1)\n",
      "Expecting property name enclosed in double quotes: line 1 column 2 (char 1)\n",
      "Expecting property name enclosed in double quotes: line 1 column 2 (char 1)\n",
      "Expecting property name enclosed in double quotes: line 1 column 2 (char 1)\n",
      "Expecting property name enclosed in double quotes: line 1 column 2 (char 1)\n",
      "Expecting property name enclosed in double quotes: line 1 column 2 (char 1)\n",
      "Expecting property name enclosed in double quotes: line 1 column 2 (char 1)\n",
      "Expecting property name enclosed in double quotes: line 1 column 2 (char 1)\n",
      "Expecting property name enclosed in double quotes: line 1 column 2 (char 1)\n",
      "Expecting property name enclosed in double quotes: line 1 column 2 (char 1)\n",
      "Expecting property name enclosed in double quotes: line 1 column 2 (char 1)\n",
      "Expecting property name enclosed in double quotes: line 1 column 2 (char 1)\n",
      "Expecting property name enclosed in double quotes: line 1 column 2 (char 1)\n",
      "Expecting property name enclosed in double quotes: line 1 column 2 (char 1)\n",
      "Expecting property name enclosed in double quotes: line 1 column 2 (char 1)\n",
      "Expecting property name enclosed in double quotes: line 1 column 2 (char 1)\n",
      "Expecting property name enclosed in double quotes: line 1 column 2 (char 1)\n",
      "Expecting property name enclosed in double quotes: line 1 column 2 (char 1)\n",
      "Expecting property name enclosed in double quotes: line 1 column 2 (char 1)\n",
      "Expecting property name enclosed in double quotes: line 1 column 2 (char 1)\n",
      "Expecting property name enclosed in double quotes: line 1 column 2 (char 1)\n",
      "Expecting property name enclosed in double quotes: line 1 column 2 (char 1)\n",
      "Expecting property name enclosed in double quotes: line 1 column 2 (char 1)\n",
      "Expecting property name enclosed in double quotes: line 1 column 2 (char 1)\n",
      "Expecting property name enclosed in double quotes: line 1 column 2 (char 1)\n",
      "Expecting property name enclosed in double quotes: line 1 column 2 (char 1)\n",
      "Expecting property name enclosed in double quotes: line 1 column 2 (char 1)\n",
      "Expecting property name enclosed in double quotes: line 1 column 2 (char 1)\n",
      "Expecting property name enclosed in double quotes: line 1 column 2 (char 1)\n",
      "Expecting property name enclosed in double quotes: line 1 column 2 (char 1)\n",
      "Expecting property name enclosed in double quotes: line 1 column 2 (char 1)\n",
      "Expecting property name enclosed in double quotes: line 1 column 2 (char 1)\n",
      "Expecting property name enclosed in double quotes: line 1 column 2 (char 1)\n",
      "Expecting property name enclosed in double quotes: line 1 column 2 (char 1)\n",
      "Expecting property name enclosed in double quotes: line 1 column 2 (char 1)\n",
      "Expecting property name enclosed in double quotes: line 1 column 2 (char 1)\n",
      "Expecting property name enclosed in double quotes: line 1 column 2 (char 1)\n",
      "Expecting property name enclosed in double quotes: line 1 column 2 (char 1)\n",
      "Expecting property name enclosed in double quotes: line 1 column 2 (char 1)\n",
      "Expecting property name enclosed in double quotes: line 1 column 2 (char 1)\n",
      "Expecting property name enclosed in double quotes: line 1 column 2 (char 1)\n",
      "Expecting property name enclosed in double quotes: line 1 column 2 (char 1)\n",
      "Expecting property name enclosed in double quotes: line 1 column 2 (char 1)\n",
      "Expecting property name enclosed in double quotes: line 1 column 2 (char 1)\n",
      "Expecting property name enclosed in double quotes: line 1 column 2 (char 1)\n",
      "Expecting property name enclosed in double quotes: line 1 column 2 (char 1)\n",
      "Expecting property name enclosed in double quotes: line 1 column 2 (char 1)\n",
      "Expecting property name enclosed in double quotes: line 1 column 2 (char 1)\n",
      "Expecting property name enclosed in double quotes: line 1 column 2 (char 1)\n",
      "Expecting property name enclosed in double quotes: line 1 column 2 (char 1)\n",
      "Expecting property name enclosed in double quotes: line 1 column 2 (char 1)\n",
      "Expecting property name enclosed in double quotes: line 1 column 2 (char 1)\n",
      "Expecting property name enclosed in double quotes: line 1 column 2 (char 1)\n",
      "Expecting property name enclosed in double quotes: line 1 column 2 (char 1)\n",
      "Expecting property name enclosed in double quotes: line 1 column 2 (char 1)\n",
      "Expecting property name enclosed in double quotes: line 1 column 2 (char 1)\n",
      "Expecting property name enclosed in double quotes: line 1 column 2 (char 1)\n",
      "Expecting property name enclosed in double quotes: line 1 column 2 (char 1)\n",
      "Expecting property name enclosed in double quotes: line 1 column 2 (char 1)\n",
      "Expecting property name enclosed in double quotes: line 1 column 2 (char 1)\n",
      "Expecting property name enclosed in double quotes: line 1 column 2 (char 1)\n",
      "Expecting property name enclosed in double quotes: line 1 column 2 (char 1)\n",
      "Expecting property name enclosed in double quotes: line 1 column 2 (char 1)\n",
      "Expecting property name enclosed in double quotes: line 1 column 2 (char 1)\n",
      "Expecting property name enclosed in double quotes: line 1 column 2 (char 1)\n",
      "Expecting property name enclosed in double quotes: line 1 column 2 (char 1)\n",
      "Expecting property name enclosed in double quotes: line 1 column 2 (char 1)\n",
      "Expecting property name enclosed in double quotes: line 1 column 2 (char 1)\n",
      "Expecting property name enclosed in double quotes: line 1 column 2 (char 1)\n",
      "Expecting property name enclosed in double quotes: line 1 column 2 (char 1)\n",
      "Expecting property name enclosed in double quotes: line 1 column 2 (char 1)\n",
      "Expecting property name enclosed in double quotes: line 1 column 2 (char 1)\n",
      "Expecting property name enclosed in double quotes: line 1 column 2 (char 1)\n",
      "Expecting property name enclosed in double quotes: line 1 column 2 (char 1)\n",
      "Expecting property name enclosed in double quotes: line 1 column 2 (char 1)\n",
      "Expecting property name enclosed in double quotes: line 1 column 2 (char 1)\n",
      "Expecting property name enclosed in double quotes: line 1 column 2 (char 1)\n",
      "Expecting property name enclosed in double quotes: line 1 column 2 (char 1)\n",
      "Expecting property name enclosed in double quotes: line 1 column 2 (char 1)\n",
      "Expecting property name enclosed in double quotes: line 1 column 2 (char 1)\n",
      "Expecting property name enclosed in double quotes: line 1 column 2 (char 1)\n",
      "Expecting property name enclosed in double quotes: line 1 column 2 (char 1)\n",
      "Expecting property name enclosed in double quotes: line 1 column 2 (char 1)\n",
      "Expecting property name enclosed in double quotes: line 1 column 2 (char 1)\n",
      "Expecting property name enclosed in double quotes: line 1 column 2 (char 1)\n",
      "Expecting property name enclosed in double quotes: line 1 column 2 (char 1)\n",
      "Expecting property name enclosed in double quotes: line 1 column 2 (char 1)\n",
      "Expecting property name enclosed in double quotes: line 1 column 2 (char 1)\n",
      "Expecting property name enclosed in double quotes: line 1 column 2 (char 1)\n",
      "Expecting property name enclosed in double quotes: line 1 column 2 (char 1)\n",
      "Expecting property name enclosed in double quotes: line 1 column 2 (char 1)\n",
      "Expecting property name enclosed in double quotes: line 1 column 2 (char 1)\n",
      "Expecting property name enclosed in double quotes: line 1 column 2 (char 1)\n",
      "Expecting property name enclosed in double quotes: line 1 column 2 (char 1)\n",
      "Expecting property name enclosed in double quotes: line 1 column 2 (char 1)\n",
      "Expecting property name enclosed in double quotes: line 1 column 2 (char 1)\n",
      "Expecting property name enclosed in double quotes: line 1 column 2 (char 1)\n",
      "Expecting property name enclosed in double quotes: line 1 column 2 (char 1)\n",
      "Expecting property name enclosed in double quotes: line 1 column 2 (char 1)\n",
      "Expecting property name enclosed in double quotes: line 1 column 2 (char 1)\n",
      "Expecting property name enclosed in double quotes: line 1 column 2 (char 1)\n",
      "Expecting property name enclosed in double quotes: line 1 column 2 (char 1)\n"
     ]
    }
   ],
   "source": [
    "from pathlib import Path\n",
    "import json\n",
    "import os\n",
    "\n",
    "rootPath = str(Path().absolute().parent.parent)\n",
    "transcriptsPath = \"\\\\data\\\\transcripts\\\\gcstt\\\\raw\\\\2019-10-30\\\\\"\n",
    "\n",
    "jsonFilesPath = rootPath + transcriptsPath\n",
    "\n",
    "## Get \n",
    "alljsonfiles = os.listdir(jsonFilesPath)#[\"77001367.flac_output.txt\", \"121493804.flac_output.txt\", \"152249110.flac_output.txt\"]\n",
    "\n",
    "\n",
    "djsonFiles = []\n",
    "\n",
    "for dfile in range(len(alljsonfiles)):\n",
    "    try:\n",
    "        with open(jsonFilesPath+alljsonfiles[dfile]) as pf:\n",
    "            jsonFile = json.load(pf)\n",
    "            djsonFiles.append(jsonFile)\n",
    "    except Exception as e:\n",
    "        print(e)\n",
    "\n"
   ]
  },
  {
   "cell_type": "markdown",
   "metadata": {},
   "source": [
    "# Podcast Confidence Scores"
   ]
  },
  {
   "cell_type": "code",
   "execution_count": 103,
   "metadata": {},
   "outputs": [
    {
     "name": "stdout",
     "output_type": "stream",
     "text": [
      "    PodcastID  AudioLength                                   ConfidenceScores  \\\n",
      "0   121493804  2983.191938  [0.9263136982917786, 0.9287502765655518, 0.921...   \n",
      "1   152249110  1730.021067  [0.9700709581375122, 0.9422271847724915, 0.777...   \n",
      "2   160904630   961.671837  [0.8837487101554871, 0.9579324126243591, 0.927...   \n",
      "3   201671138  3551.987938  [0.9641366004943848, 0.9453858733177185, 0.898...   \n",
      "4   214089682  2923.821563  [0.9704921841621399, 0.978276789188385, 0.9604...   \n",
      "5   278981407   787.983667  [0.963202178478241, 0.9608364701271057, 0.9465...   \n",
      "6   290783428  1258.740563  [0.9819292426109314, 0.9424968957901001, 0.969...   \n",
      "7   354668519  3373.217756  [0.9610400199890137, 0.9438691735267639, 0.965...   \n",
      "8   437299706  2172.187067  [0.9663270115852356, 0.9771959185600281, 0.969...   \n",
      "9   523121474  3124.268250  [0.9497665166854858, 0.9876289963722229, 0.973...   \n",
      "10   77001367  2430.756571  [0.9444140791893005, 0.8635267019271851, 0.949...   \n",
      "11  809264944  1336.058776  [0.9534276127815247, 0.9561801552772522, 0.972...   \n",
      "12  917918570  2988.120816  [0.9657303094863892, 0.911378026008606, 0.9434...   \n",
      "13  928159684  1268.365625  [0.9341357946395874, 0.9397450089454651, 0.974...   \n",
      "\n",
      "    OverallConfidence  \n",
      "0            0.923709  \n",
      "1            0.910255  \n",
      "2            0.928196  \n",
      "3            0.926944  \n",
      "4            0.942742  \n",
      "5            0.949342  \n",
      "6            0.965565  \n",
      "7            0.955430  \n",
      "8            0.955443  \n",
      "9            0.918513  \n",
      "10           0.928492  \n",
      "11           0.942722  \n",
      "12           0.915889  \n",
      "13           0.932734  \n"
     ]
    }
   ],
   "source": [
    "jsonFileCount = len(djsonFiles)\n",
    "\n",
    "import pandas as pd \n",
    "\n",
    "# I want PodcastID, the AudioFileLength, and a list of confidence scores for each podcast.\n",
    "\n",
    "df = pd.DataFrame(columns=[\"PodcastID\", \"AudioLength\",\"ConfidenceScores\",\"OverallConfidence\"])\n",
    "\n",
    "for i in range(jsonFileCount):\n",
    "\n",
    "    jsf = djsonFiles[i]\n",
    "    jsf_ts = jsf['Transcripts']\n",
    "    confCount = len(jsf_ts)\n",
    "    confList = []\n",
    "    \n",
    "    for confN in range(confCount):\n",
    "        confList.append(jsf_ts[confN][0])\n",
    "    \n",
    "    overallConfMean = 0\n",
    "    overallConfAdded = 0\n",
    "    for n in confList:\n",
    "        overallConfAdded += n\n",
    "    \n",
    "    overallConfMean = overallConfAdded / confCount\n",
    "    \n",
    "    df.loc[i] = [jsf['Stats']['PodcastID'].split('.')[0]] + [jsf['Stats']['AudioLength']] + [confList] + [overallConfMean] \n",
    "\n",
    "print(df.head(15))\n",
    "    "
   ]
  },
  {
   "cell_type": "markdown",
   "metadata": {},
   "source": [
    "# T2.1 Basic Stats"
   ]
  },
  {
   "cell_type": "code",
   "execution_count": 119,
   "metadata": {},
   "outputs": [
    {
     "name": "stdout",
     "output_type": "stream",
     "text": [
      "Mean Audio Length(s): 2206.4566738571425\n",
      "Variance of Audio Length(s): 932222.8171234329\n",
      "Std Dev of AudioLength(s): 965.5168652713596\n"
     ]
    },
    {
     "data": {
      "text/plain": [
       "<matplotlib.axes._subplots.AxesSubplot at 0x19a082dcf08>"
      ]
     },
     "execution_count": 119,
     "metadata": {},
     "output_type": "execute_result"
    },
    {
     "data": {
      "image/png": "[encoded data removed]",
      "text/plain": [
       "<Figure size 432x288 with 1 Axes>"
      ]
     },
     "metadata": {
      "needs_background": "light"
     },
     "output_type": "display_data"
    }
   ],
   "source": [
    "import seaborn as sns\n",
    "\n",
    "audioLengthDf = df['AudioLength']\n",
    "# Mean Audio Length\n",
    "audioLengthAvgSeconds = audioLengthDf.mean()\n",
    "\n",
    "# Variance of Audio Length, seconds\n",
    "audioLengthVar = audioLengthDf.var()\n",
    "\n",
    "# Std dev\n",
    "audioLengthStd = audioLengthDf.std()\n",
    "\n",
    "\n",
    "print(\"Mean Audio Length(s): \" + str(audioLengthAvgSeconds))\n",
    "print(\"Variance of Audio Length(s): \" + str(audioLengthVar))\n",
    "print(\"Std Dev of AudioLength(s): \" + str(audioLengthStd))\n",
    "\n",
    "# Boxplot\n",
    "sns.distplot(audioLengthDf, hist=False, rug=True)\n",
    "\n",
    "\n",
    "\n"
   ]
  },
  {
   "cell_type": "code",
   "execution_count": 118,
   "metadata": {},
   "outputs": [
    {
     "name": "stdout",
     "output_type": "stream",
     "text": [
      "Mean of Overall Confidence: 0.9354270150492557\n",
      "Variance of Overall Confidence: 0.00027905931252845734\n",
      "Std dev of Overall Confidence: 0.01670506846823614\n"
     ]
    },
    {
     "data": {
      "text/plain": [
       "<matplotlib.axes._subplots.AxesSubplot at 0x19a0826f188>"
      ]
     },
     "execution_count": 118,
     "metadata": {},
     "output_type": "execute_result"
    },
    {
     "data": {
      "image/png": "[encoded data removed]",
      "text/plain": [
       "<Figure size 432x288 with 1 Axes>"
      ]
     },
     "metadata": {
      "needs_background": "light"
     },
     "output_type": "display_data"
    }
   ],
   "source": [
    "ovConfScoreDf = df['OverallConfidence']\n",
    "\n",
    "# Mean of Mean Confidence Scores\n",
    "ovConfScoreMean = ovConfScoreDf.mean()\n",
    "\n",
    "\n",
    "# Variance of Audio Length, seconds\n",
    "ovConfScoreVar = ovConfScoreDf.var()\n",
    "\n",
    "# Std dev\n",
    "ovConfScoreStd = ovConfScoreDf.std()\n",
    "\n",
    "print(\"Mean of Overall Confidence: \" + str(ovConfScoreMean))\n",
    "print(\"Variance of Overall Confidence: \" + str(ovConfScoreVar))\n",
    "print(\"Std dev of Overall Confidence: \" + str(ovConfScoreStd))\n",
    "\n",
    "# Boxplot of Confidence Scores\n",
    "sns.distplot(ovConfScoreDf, hist=False, rug=True)"
   ]
  },
  {
   "cell_type": "markdown",
   "metadata": {},
   "source": [
    "# T2.2 Distribution of Average Confidence Scores\n",
    "Using Maximum Likelihood Estimation"
   ]
  },
  {
   "cell_type": "code",
   "execution_count": 136,
   "metadata": {},
   "outputs": [
    {
     "data": {
      "text/plain": [
       "<matplotlib.axes._subplots.AxesSubplot at 0x19a073c3cc8>"
      ]
     },
     "execution_count": 136,
     "metadata": {},
     "output_type": "execute_result"
    },
    {
     "data": {
      "image/png": "[encoded data removed]",
      "text/plain": [
       "<Figure size 936x648 with 1 Axes>"
      ]
     },
     "metadata": {
      "needs_background": "light"
     },
     "output_type": "display_data"
    }
   ],
   "source": [
    "import scipy.stats as stats\n",
    "import matplotlib.pyplot as plt\n",
    "import numpy as np\n",
    "\n",
    "\n",
    "\n"
   ]
  },
  {
   "cell_type": "code",
   "execution_count": 142,
   "metadata": {},
   "outputs": [
    {
     "data": {
      "text/plain": [
       "[<matplotlib.lines.Line2D at 0x19a09477cc8>]"
      ]
     },
     "execution_count": 142,
     "metadata": {},
     "output_type": "execute_result"
    },
    {
     "data": {
      "image/png": "[encoded data removed]",
      "text/plain": [
       "<Figure size 936x648 with 1 Axes>"
      ]
     },
     "metadata": {
      "needs_background": "light"
     },
     "output_type": "display_data"
    }
   ],
   "source": [
    "# Lets fit our data into the MoM estimator.\n",
    "\n",
    "alpha_mom = ovConfScoreMean ** 2 / ovConfScoreVar\n",
    "beta_mom = ovConfScoreVar / ovConfScoreMean\n",
    "\n",
    "\n",
    "from scipy.stats.distributions import gamma\n",
    "\n",
    "# Histogram\n",
    "df.OverallConfidence.hist(density=True, bins=15, ec='black', figsize=(13,9))\n",
    "label = 'alpha ={0:.2f}\\nbeta = {1:.2f}'.format(alpha_mom, beta_mom)\n",
    "plt.plot(np.linspace(0,15), gamma.pdf(np.linspace(0,15),alpha_mom,beta_mom))\n",
    "\n"
   ]
  },
  {
   "cell_type": "markdown",
   "metadata": {},
   "source": [
    "# T2.3 Testing: Does Audio Length Impact Overall Confidence Score?\n",
    "\n",
    "Null Hypothesis: The length of the audio file does not impact the overall confidence score.\n",
    "\n",
    "Alternative Hypothesis: The length of the audio file impacts the overall confidence test.\n",
    "\n",
    "This calls for a two tailed test."
   ]
  },
  {
   "cell_type": "code",
   "execution_count": null,
   "metadata": {},
   "outputs": [],
   "source": []
  },
  {
   "cell_type": "markdown",
   "metadata": {},
   "source": [
    "# T2.4 Correlation and Co-variance"
   ]
  },
  {
   "cell_type": "code",
   "execution_count": null,
   "metadata": {},
   "outputs": [],
   "source": []
  }
 ],
 "metadata": {
  "kernelspec": {
   "display_name": "Python 3",
   "language": "python",
   "name": "python3"
  },
  "language_info": {
   "codemirror_mode": {
    "name": "ipython",
    "version": 3
   },
   "file_extension": ".py",
   "mimetype": "text/x-python",
   "name": "python",
   "nbconvert_exporter": "python",
   "pygments_lexer": "ipython3",
   "version": "3.7.4"
  }
 },
 "nbformat": 4,
 "nbformat_minor": 2
}
