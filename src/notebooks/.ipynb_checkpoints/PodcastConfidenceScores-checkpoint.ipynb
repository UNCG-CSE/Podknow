{
 "cells": [
  {
   "cell_type": "markdown",
   "metadata": {},
   "source": [
    "# Loading Statistical Files"
   ]
  },
  {
   "cell_type": "code",
   "execution_count": 8,
   "metadata": {},
   "outputs": [],
   "source": [
    "from pathlib import Path\n",
    "import json\n",
    "import os\n",
    "\n",
    "rootPath = str(Path().absolute().parent.parent)\n",
    "transcriptsPath = \"\\\\data\\\\transcripts\\\\gcstt\\\\raw\\\\2019-10-30\\\\\"\n",
    "\n",
    "jsonFilesPath = rootPath + transcriptsPath\n",
    "\n",
    "## Get \n",
    "alljsonfiles = os.listdir(jsonFilesPath)#[\"77001367.flac_output.txt\", \"121493804.flac_output.txt\", \"152249110.flac_output.txt\"]\n",
    "\n",
    "\n",
    "djsonFiles = []\n",
    "\n",
    "for dfile in range(len(alljsonfiles)):\n",
    "    try:\n",
    "        with open(jsonFilesPath+alljsonfiles[dfile]) as pf:\n",
    "            jsonFile = json.load(pf)\n",
    "            djsonFiles.append(jsonFile)\n",
    "    except Exception as e:\n",
    "        print(e)\n",
    "\n"
   ]
  },
  {
   "cell_type": "markdown",
   "metadata": {},
   "source": [
    "# Podcast Confidence Scores"
   ]
  },
  {
   "cell_type": "code",
   "execution_count": 18,
   "metadata": {},
   "outputs": [
    {
     "name": "stdout",
     "output_type": "stream",
     "text": [
      "     PodcastID   AudioLength  \\\n",
      "0   1012570406   3608.607347   \n",
      "1   1028908750   2665.776750   \n",
      "2   1042368254   2792.620256   \n",
      "3   1043699613   7423.346938   \n",
      "4   1044196249   2458.774500   \n",
      "5   1047335260   3731.488531   \n",
      "6   1057255460    756.985313   \n",
      "7   1068563276   3297.671567   \n",
      "8   1070322219  10961.552000   \n",
      "9   1074507850   1447.105256   \n",
      "10  1089022756   6520.932000   \n",
      "11  1089216339   1683.226122   \n",
      "12  1091709555   1898.470688   \n",
      "13  1098413063   3183.601256   \n",
      "14  1112190608   1753.458938   \n",
      "\n",
      "                                     ConfidenceScores  OverallConfidence  \n",
      "0   [0.7470839619636536, 0.9002377986907959, 0.927...           0.945600  \n",
      "1   [0.966590940952301, 0.9653183221817017, 0.8806...           0.946047  \n",
      "2   [0.9597625732421875, 0.9519091248512268, 0.969...           0.947966  \n",
      "3   [0.9666865468025208, 0.9736114740371704, 0.920...           0.947712  \n",
      "4   [0.9021533727645874, 0.9155664443969727, 0.928...           0.877605  \n",
      "5   [0.902579128742218, 0.9726678133010864, 0.9743...           0.959166  \n",
      "6   [0.9655531048774719, 0.9678374528884888, 0.969...           0.964961  \n",
      "7   [0.9678056240081787, 0.9591624140739441, 0.968...           0.959962  \n",
      "8   [0.9534683227539062, 0.9695873856544495, 0.986...           0.945940  \n",
      "9   [0.9662602543830872, 0.9394221901893616, 0.972...           0.942728  \n",
      "10  [0.9567249417304993, 0.9741551280021667, 0.964...           0.952779  \n",
      "11  [0.9243294596672058, 0.9066831469535828, 0.747...           0.856924  \n",
      "12  [0.96653813123703, 0.954675018787384, 0.966412...           0.951259  \n",
      "13  [0.9583495259284973, 0.974036455154419, 0.9708...           0.958859  \n",
      "14  [0.9389232993125916, 0.8226470947265625, 0.892...           0.930763  \n",
      "Number of Samples: 133\n"
     ]
    }
   ],
   "source": [
    "jsonFileCount = len(djsonFiles)\n",
    "\n",
    "import pandas as pd \n",
    "\n",
    "# I want PodcastID, the AudioFileLength, and a list of confidence scores for each podcast.\n",
    "\n",
    "df = pd.DataFrame(columns=[\"PodcastID\", \"AudioLength\",\"ConfidenceScores\",\"OverallConfidence\"])\n",
    "\n",
    "for i in range(jsonFileCount):\n",
    "\n",
    "    jsf = djsonFiles[i]\n",
    "    jsf_ts = jsf['Transcripts']\n",
    "    confCount = len(jsf_ts)\n",
    "    confList = []\n",
    "    \n",
    "    for confN in range(confCount):\n",
    "        confList.append(jsf_ts[confN][0])\n",
    "    \n",
    "    overallConfMean = 0\n",
    "    overallConfAdded = 0\n",
    "    for n in confList:\n",
    "        overallConfAdded += n\n",
    "    \n",
    "    overallConfMean = overallConfAdded / confCount\n",
    "    \n",
    "    df.loc[i] = [jsf['Stats']['PodcastID'].split('.')[0]] + [jsf['Stats']['AudioLength']] + [confList] + [overallConfMean] \n",
    "\n",
    "print(df.head(15))\n"
   ]
  },
  {
   "cell_type": "markdown",
   "metadata": {},
   "source": [
    "# T2.1 Basic Stats"
   ]
  },
  {
   "cell_type": "code",
   "execution_count": 21,
   "metadata": {},
   "outputs": [
    {
     "name": "stdout",
     "output_type": "stream",
     "text": [
      "Number of Samples: 133\n",
      "Mean Audio Length(s): 2757.257756977444\n",
      "Variance of Audio Length(s): 4895670.355663463\n",
      "Std Dev of AudioLength(s): 2212.616179020542\n"
     ]
    }
   ],
   "source": [
    "import seaborn as sns\n",
    "\n",
    "print(\"Number of Samples: \" + str(jsonFileCount))\n",
    "\n",
    "audioLengthDf = df['AudioLength']\n",
    "# Mean Audio Length\n",
    "audioLengthAvgSeconds = audioLengthDf.mean()\n",
    "\n",
    "# Variance of Audio Length, seconds\n",
    "audioLengthVar = audioLengthDf.var()\n",
    "\n",
    "# Std dev\n",
    "audioLengthStd = audioLengthDf.std()\n",
    "\n",
    "\n",
    "print(\"Mean Audio Length(s): \" + str(audioLengthAvgSeconds))\n",
    "print(\"Variance of Audio Length(s): \" + str(audioLengthVar))\n",
    "print(\"Std Dev of AudioLength(s): \" + str(audioLengthStd))\n",
    "\n",
    "\n",
    "\n",
    "\n"
   ]
  },
  {
   "cell_type": "code",
   "execution_count": 23,
   "metadata": {},
   "outputs": [
    {
     "name": "stdout",
     "output_type": "stream",
     "text": [
      "Mean of Overall Confidence: 0.9412462754000652\n",
      "Variance of Overall Confidence: 0.000390219099046108\n",
      "Std dev of Overall Confidence: 0.019753964134980807\n"
     ]
    }
   ],
   "source": [
    "ovConfScoreDf = df['OverallConfidence']\n",
    "\n",
    "# Mean of Mean Confidence Scores\n",
    "ovConfScoreMean = ovConfScoreDf.mean()\n",
    "\n",
    "\n",
    "# Variance of Audio Length, seconds\n",
    "ovConfScoreVar = ovConfScoreDf.var()\n",
    "\n",
    "# Std dev\n",
    "ovConfScoreStd = ovConfScoreDf.std()\n",
    "\n",
    "print(\"Mean of Overall Confidence: \" + str(ovConfScoreMean))\n",
    "print(\"Variance of Overall Confidence: \" + str(ovConfScoreVar))\n",
    "print(\"Std dev of Overall Confidence: \" + str(ovConfScoreStd))\n",
    "\n",
    "\n"
   ]
  },
  {
   "cell_type": "code",
   "execution_count": 22,
   "metadata": {},
   "outputs": [
    {
     "data": {
      "text/plain": [
       "array([[<matplotlib.axes._subplots.AxesSubplot object at 0x0000022DF6629788>,\n",
       "        <matplotlib.axes._subplots.AxesSubplot object at 0x0000022DF6654548>]],\n",
       "      dtype=object)"
      ]
     },
     "execution_count": 22,
     "metadata": {},
     "output_type": "execute_result"
    },
    {
     "data": {
      "image/png": "[encoded data removed]",
      "text/plain": [
       "<Figure size 864x576 with 2 Axes>"
      ]
     },
     "metadata": {
      "needs_background": "light"
     },
     "output_type": "display_data"
    }
   ],
   "source": [
    "# Distribution of conf scores, audio length as histogram\n",
    "df.hist(bins=20,density=True,ec='black', figsize=(12,8))"
   ]
  },
  {
   "cell_type": "markdown",
   "metadata": {},
   "source": [
    "# Many 'Overall confidence scores' are remarkably high, from 0.94 to 0.96\n",
    "# Few podcasts are more than an hour long, even fewer that are longer than that. "
   ]
  },
  {
   "cell_type": "markdown",
   "metadata": {},
   "source": [
    "# T2.2 Distribution of Average Confidence Scores\n",
    "Using Maximum Likelihood Estimation"
   ]
  },
  {
   "cell_type": "code",
   "execution_count": 12,
   "metadata": {},
   "outputs": [],
   "source": [
    "import scipy.stats as stats\n",
    "import matplotlib.pyplot as plt\n",
    "import numpy as np\n",
    "\n",
    "\n",
    "\n"
   ]
  },
  {
   "cell_type": "code",
   "execution_count": 16,
   "metadata": {},
   "outputs": [
    {
     "data": {
      "text/plain": [
       "array([[<matplotlib.axes._subplots.AxesSubplot object at 0x0000022DF5BA7EC8>,\n",
       "        <matplotlib.axes._subplots.AxesSubplot object at 0x0000022DF5BC9588>]],\n",
       "      dtype=object)"
      ]
     },
     "execution_count": 16,
     "metadata": {},
     "output_type": "execute_result"
    },
    {
     "data": {
      "image/png": "[encoded data removed]",
      "text/plain": [
       "<Figure size 864x576 with 2 Axes>"
      ]
     },
     "metadata": {
      "needs_background": "light"
     },
     "output_type": "display_data"
    }
   ],
   "source": [
    "# Lets fit our data into the KDE Estimator\n",
    "\n",
    "\n",
    "df.hist(bins=20,density=True,ec='black', figsize=(12,8))\n",
    "\n"
   ]
  },
  {
   "cell_type": "markdown",
   "metadata": {},
   "source": [
    "# T2.4 Is there a relationship between the two?"
   ]
  },
  {
   "cell_type": "code",
   "execution_count": 27,
   "metadata": {},
   "outputs": [
    {
     "data": {
      "text/plain": [
       "<matplotlib.axes._subplots.AxesSubplot at 0x22df684ea88>"
      ]
     },
     "execution_count": 27,
     "metadata": {},
     "output_type": "execute_result"
    },
    {
     "data": {
      "image/png": "[encoded data removed]",
      "text/plain": [
       "<Figure size 720x576 with 1 Axes>"
      ]
     },
     "metadata": {
      "needs_background": "light"
     },
     "output_type": "display_data"
    }
   ],
   "source": [
    "df.plot(kind=\"scatter\", x=\"AudioLength\", y=\"OverallConfidence\", figsize=(10,8))"
   ]
  },
  {
   "cell_type": "markdown",
   "metadata": {},
   "source": [
    "# No, doesn't appear to have a relation.\n",
    "# Lets try individual podcasts.\n",
    "# The longer the sentence (char length) the lower/higher the confidence score?"
   ]
  },
  {
   "cell_type": "code",
   "execution_count": 55,
   "metadata": {},
   "outputs": [
    {
     "name": "stdout",
     "output_type": "stream",
     "text": [
      "     ConfScore  CharLength\n",
      "132   0.956187       584.0\n",
      "132   0.956010       335.0\n",
      "132   0.943864       222.0\n",
      "132   0.912757        71.0\n",
      "132   0.838959       148.0\n"
     ]
    },
    {
     "data": {
      "text/plain": [
       "<matplotlib.axes._subplots.AxesSubplot at 0x22df6c77d88>"
      ]
     },
     "execution_count": 55,
     "metadata": {},
     "output_type": "execute_result"
    },
    {
     "data": {
      "image/png": "[encoded data removed]",
      "text/plain": [
       "<Figure size 720x576 with 1 Axes>"
      ]
     },
     "metadata": {
      "needs_background": "light"
     },
     "output_type": "display_data"
    }
   ],
   "source": [
    "# Select \n",
    "jsonFileCount = len(djsonFiles)\n",
    "\n",
    "pdf_conf = pd.DataFrame(columns=[\"ConfScore\", \"CharLength\"])\n",
    "\n",
    "for jsfEntry in djsonFiles:\n",
    "    \n",
    "    pdf_temp = pd.DataFrame(columns=[\"ConfScore\",\"CharLength\"])\n",
    "    \n",
    "    for n in range(len(jsfEntry['Transcripts'])):\n",
    "        pdf_temp.loc[i] = [jsfEntry['Transcripts'][n][0]] + [ len(str(jsfEntry['Transcripts'][n][1])) ]\n",
    "    \n",
    "    pdf_conf = pdf_conf.append(pdf_temp)\n",
    "\n",
    "print(pdf_conf.head(5))\n",
    "pdf_conf.plot(kind=\"scatter\", x=\"ConfScore\", y=\"CharLength\", figsize=(10,8))"
   ]
  },
  {
   "cell_type": "markdown",
   "metadata": {},
   "source": [
    "# T2.3 Testing: Does Audio Length Impact Overall Confidence Score?\n",
    "\n",
    "Null Hypothesis: The length of the audio file does not impact the overall confidence score.\n",
    "\n",
    "Alternative Hypothesis: The length of the audio file impacts the overall confidence score.\n",
    "\n",
    "This calls for a two tailed test."
   ]
  },
  {
   "cell_type": "code",
   "execution_count": null,
   "metadata": {},
   "outputs": [],
   "source": []
  }
 ],
 "metadata": {
  "kernelspec": {
   "display_name": "Python 3",
   "language": "python",
   "name": "python3"
  },
  "language_info": {
   "codemirror_mode": {
    "name": "ipython",
    "version": 3
   },
   "file_extension": ".py",
   "mimetype": "text/x-python",
   "name": "python",
   "nbconvert_exporter": "python",
   "pygments_lexer": "ipython3",
   "version": "3.7.4"
  }
 },
 "nbformat": 4,
 "nbformat_minor": 2
}
