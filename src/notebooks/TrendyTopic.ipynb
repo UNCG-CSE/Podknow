{
 "cells": [
  {
   "cell_type": "code",
   "execution_count": 130,
   "metadata": {},
   "outputs": [],
   "source": [
    "import pandas as pd\n",
    "import xlrd\n",
    "import csv\n",
    "import glob\n",
    "paths = glob.glob(\"C:\\\\Users\\\\vince\\\\Desktop\\\\DataScience Project repo\\\\data\\\\transcripts\\\\gcsst\\\\excel bigrams\\\\*.xlsx\")"
   ]
  },
  {
   "cell_type": "code",
   "execution_count": 131,
   "metadata": {},
   "outputs": [],
   "source": [
    "topics = []\n",
    "for path in paths:\n",
    "    try:\n",
    "        xl = pd.ExcelFile(path)\n",
    "        dfl = xl.parse('Sheet1')\n",
    "        topics.append(dfl)\n",
    "    except Exception as e:\n",
    "        print(e)"
   ]
  },
  {
   "cell_type": "code",
   "execution_count": 132,
   "metadata": {},
   "outputs": [],
   "source": [
    "allTopics = []\n",
    "for df in topics:\n",
    "    mylist = df.values.tolist()\n",
    "    for item in mylist:\n",
    "        allTopics.append(item[0])\n",
    "        allTopics.append(item[1])      \n",
    "\n",
    "topicDictionary = {}\n",
    "        \n",
    "for topic in allTopics:\n",
    "    topic = topic.strip()\n",
    "    topicDictionary[topic] = 0\n",
    "\n",
    "for topic in allTopics:\n",
    "    topic = topic.strip()\n",
    "    if topic in topicDictionary:\n",
    "        topicDictionary[topic] = topicDictionary[topic] + 1"
   ]
  },
  {
   "cell_type": "code",
   "execution_count": 133,
   "metadata": {},
   "outputs": [
    {
     "name": "stdout",
     "output_type": "stream",
     "text": [
      "{'Shannon': 2, 'Johnson': 2, 'ball': 4, 'moving': 1, 'equal': 1, 'hands': 3, 'going': 4, 'get': 4, 'God': 4, 'keynote': 1, 'speaker': 1, 'literally': 1, 'person': 3, 'little': 44, 'bit': 41, 'social': 7, 'media': 9, 'Terror': 1, 'management': 3, 'control': 4, 'condition': 1, 'fear': 1, 'death': 4, 'hidden': 1, 'brain': 2, 'hot': 4, 'sauce': 1, 'Theory': 1, 'mental': 4, 'defenses': 1, 'paper': 1, 'rejected': 1, 'reminded': 1, 'mortality': 1, 'Matt': 2, 'Ryan': 1, 'Monday': 2, 'night': 7, 'New': 38, 'York': 31, 'Wise': 1, 'Guys': 1, 'better': 3, 'team': 3, 'coaching': 1, 'staff': 1, 'take': 4, 'last': 7, 'year': 8, 'Cory': 2, 'Booker': 2, 'Elizabeth': 3, 'Warren': 3, 'Joe': 9, 'Biden': 3, 'Kamala': 3, 'Harris': 4, 'United': 11, 'States': 10, 'daily': 5, 'wire': 1, 'general': 1, 'election': 1, 'Jurassic': 1, 'Park': 1, 'Nitro': 2, 'cold': 2, 'Starbucks': 1, 'brew': 1, 'dinosaur': 2, 'species': 1, 'new': 2, 'number': 3, 'old': 8, 'pots': 1, 'started': 1, 'investing': 2, 'Barack': 2, 'Obama': 2, 'Beto': 1, 'ORourke': 1, 'Camp': 1, 'David': 2, 'HUD': 1, 'secretary': 1, 'health': 3, 'care': 4, 'call': 4, 'ends': 1, 'calm': 2, 'slash': 2, 'foul': 1, 'play': 2, 'help': 2, 'north': 2, 'south': 1, 'phone': 3, 'garage': 2, 'true': 1, 'crime': 2, 'type': 1, 'accident': 2, 'Stitch': 2, 'fix': 2, 'Tiny': 1, 'But': 1, 'Van': 1, 'Ness': 1, 'getting': 4, 'curious': 1, 'kitten': 1, 'lady': 2, 'middle': 1, 'nights': 1, 'row': 2, 'teacup': 1, 'poodle': 1, 'England': 3, 'decentralized': 1, 'command': 1, 'even': 9, 'though': 8, 'extreme': 1, 'ownership': 1, 'leg': 1, 'twist': 1, 'supply': 1, 'chain': 1, 'wooden': 1, 'sword': 1, 'yeah': 3, 'Jefferson': 1, 'Street': 4, 'Sleep': 2, 'Number': 2, 'Yellow': 1, 'Cab': 1, 'detective': 2, 'Miller': 3, 'gravitas': 1, 'movies': 1, 'halfway': 2, 'house': 2, 'law': 3, 'enforcement': 2, 'report': 1, 'baggy': 1, 'pants': 1, 'best': 5, 'friend': 6, 'hangdog': 1, 'face': 1, 'hundred': 3, 'million': 5, 'Jimmy': 1, 'downloads': 1, 'order': 2, 'copy': 1, 'said': 1, 'skinny': 2, 'kid': 1, 'Flacco': 1, 'Mark': 1, 'Davis': 1, 'Rob': 2, 'Gronkowski': 1, 'Tom': 4, 'Brady': 4, 'black': 2, 'hole': 1, 'cash': 2, 'app': 5, 'every': 4, 'single': 2, 'feel': 11, 'like': 14, 'abandoned': 1, 'vehicles': 1, 'attended': 1, 'residence': 1, 'cat': 1, 'couple': 2, 'hours': 2, 'Ehrenberg': 1, 'dump': 2, 'site': 1, 'probation': 1, 'officer': 3, 'running': 1, 'water': 1, 'went': 1, 'missing': 1, 'Oleg': 1, 'deripaska': 1, 'hamburger': 1, 'Trump': 2, 'Administration': 2, 'Vladimir': 1, 'Putin': 1, 'Washington': 2, 'Post': 2, 'Zurich': 1, 'Switzerland': 1, 'Jewel': 1, 'senate': 1, 'floor': 1, 'School': 4, 'District': 1, 'Supreme': 2, 'Court': 2, 'Thurgood': 1, 'Marshall': 1, 'code': 18, 'switch': 1, 'district': 2, 'lines': 1, 'following': 3, 'message': 2, 'school': 8, 'districts': 1, 'Fidel': 1, 'Castro': 1, 'Guantanamo': 1, 'Bay': 1, 'red': 1, 'flags': 1, 'revisionist': 1, 'history': 2, 'state': 1, 'department': 1, 'talking': 2, 'strangers': 2, 'telling': 1, 'truth': 3, 'Frankie': 1, 'Yale': 1, 'George': 1, 'Bugs': 1, 'Side': 2, 'gang': 4, 'South': 6, 'free': 2, 'Spotify': 5, 'side': 5, 'schemer': 1, 'drucci': 1, 'unsolved': 1, 'murders': 1, 'North': 3, 'Tower': 1, 'Trade': 1, 'Towers': 1, 'City': 6, 'gross': 4, 'know': 4, 'anything': 1, 'many': 4, 'different': 1, 'promo': 12, 'terrorist': 1, 'attack': 2, 'want': 3, 'Scott': 1, 'Benjamin': 1, 'True': 1, 'Crime': 1, 'agreed': 1, 'meet': 2, 'edge': 1, 'need': 1, 'week': 2, 'Rodger': 2, 'stack': 1, 'video': 4, 'tapes': 1, 'Curtis': 1, 'flowers': 1, 'Evans': 1, 'Friday': 2, 'June': 3, '21st': 1, 'Org': 1, 'make': 11, 'word': 1, 'donated': 1, 'support': 1, 'reporters': 2, 'producers': 1, 'testing': 2, 'Skip': 1, 'Bayless': 1, 'interest': 1, 'work': 2, 'hard': 2, 'must': 2, 'one': 6, 'thing': 4, 'open': 4, 'door': 3, 'climate': 5, 'change': 6, 'hotel': 2, 'room': 3, 'life': 4, 'hacks': 1, 'public': 3, 'relations': 1, 'real': 5, 'Wasabi': 1, 'skin': 1, 'cancer': 1, 'something': 2, 'status': 2, 'quo': 1, 'Venture': 1, 'investors': 1, 'campaign': 2, 'monitor': 1, 'guy': 2, 'Roz': 2, 'dollars': 4, 'raise': 3, 'money': 4, 'really': 9, 'term': 2, 'sheet': 1, 'Love': 1, 'You': 2, 'September': 5, '10th': 1, 'Back': 1, 'package': 1, 'channel': 1, '239': 1, 'gimlet': 1, 'wow': 1, 'today': 5, 'att': 1, 'years': 15, 'emotional': 1, 'intelligence': 1, 'emotions': 2, 'feelings': 1, 'gold': 1, 'digger': 1, 'goodie': 1, 'bag': 2, 'holding': 2, 'two': 2, 'months': 1, 'Grateful': 1, 'Nation': 1, 'Khalid': 1, 'Sheikh': 2, 'Navy': 2, 'SEAL': 1, 'Seals': 1, 'Seal': 1, 'Team': 1, 'Mohammed': 1, 'building': 1, 'birth': 1, 'home': 5, 'father': 1, 'precise': 1, 'speech': 1, 'someone': 2, 'else': 4, 'stand': 1, 'straight': 2, 'tell': 2, 'unconditional': 1, 'positive': 1, 'would': 4, 'say': 3, 'good': 4, 'fight': 1, 'happy': 2, 'birthday': 3, 'hope': 1, 'sees': 2, 'lot': 4, 'people': 8, 'teeth': 2, 'pulled': 1, 'use': 1, 'budget': 1, 'reconciliation': 1, 'warrior': 1, 'Liberty': 1, 'National': 3, 'Poland': 1, 'Spring': 1, 'birdie': 1, 'bundle': 1, 'dhm': 1, 'detox': 1, 'solheim': 1, 'cup': 1, 'whole': 2, 'Jodi': 3, 'Kantor': 1, 'Lisa': 1, 'Bloom': 1, 'Rose': 1, 'McGowan': 1, 'Times': 2, 'billing': 1, 'records': 1, 'reputation': 1, 'sexual': 3, 'harassment': 2, 'Jeremy': 1, 'Renner': 1, 'Main': 1, 'Attraction': 1, 'San': 5, 'Diego': 1, 'butt': 2, 'fucked': 1, 'congrats': 1, 'main': 1, 'attraction': 1, 'motorcycle': 1, 'problem': 1, 'Journeys': 1, 'moments': 1, 'Reflection': 1, 'seek': 1, 'wherever': 7, 'Stars': 1, ']]': 2, 'Zodiac': 1, 'signs': 1, 'affirmation': 1, 'Direction': 1, 'amid': 1, 'podcast': 4, 'unique': 1, 'Centreville': 1, 'press': 2, 'Dylan': 1, 'Nichols': 1, 'High': 2, 'Jake': 3, 'Goodson': 1, 'Little': 1, 'Caesars': 1, 'This': 2, 'American': 2, 'early': 5, 'twenties': 1, 'mouth': 2, 'shut': 1, 'European': 1, 'commission': 1, 'Frank': 1, 'langfitt': 1, 'General': 2, 'Motors': 1, 'NPR': 1, 'news': 2, 'Peter': 3, 'Kenyon': 1, 'Saudi': 5, 'oil': 2, 'facilities': 1, 'prices': 1, 'prime': 2, 'minister': 2, 'Boris': 1, 'Capital': 1, 'One': 1, 'Mary': 1, 'Wilson': 1, 'Paula': 1, 'Poundstone': 1, 'Rhode': 1, 'Island': 2, 'The': 6, 'Supremes': 1, 'WBEZ': 1, 'Chicago': 1, 'eight': 3, 'wait': 2, 'Arabia': 3, 'Secretary': 2, 'State': 5, 'Mike': 1, 'Tel': 1, 'Aviv': 1, 'crack': 1, 'forming': 2, 'defense': 3, 'Department': 1, 'federal': 3, 'government': 3, 'Maura': 1, 'Murray': 1, 'Nicholas': 1, 'Barclay': 1, 'Antonio': 1, 'Susan': 1, 'Cox': 1, 'another': 2, 'country': 4, 'needles': 1, 'eyes': 1, 'pant': 1, 'yoga': 1, 'sexually': 1, 'abused': 1, 'Envy': 1, 'Angela': 1, '13th': 1, 'Hip': 1, 'Hop': 1, 'Malcolm': 2, 'Gladwell': 2, 'Tang': 1, 'Clan': 1, 'Tha': 1, 'Breakfast': 1, 'Yung': 1, 'Berg': 1, 'Labor': 1, 'Day': 1, 'MacBook': 1, 'Pro': 2, 'Year': 1, 'Nick': 1, 'Lachey': 1, 'grab': 1, 'dollar': 1, 'bill': 1, 'first': 7, 'Geeks': 1, 'vote': 1, 'Partners': 2, 'marriage': 1, 'season': 6, 'Young': 1, 'actually': 2, 'destruction': 1, 'also': 1, 'begin': 1, 'Esther': 1, 'beginnings': 1, 'Norman': 1, 'Wilhoit': 1, 'Quentin': 1, 'truck': 1, 'ear': 1, 'hustle': 1, 'lovely': 1, 'day': 5, 'defender': 1, 'sign': 3, 'language': 1, 'theme': 3, 'song': 2, 'candle': 2, 'wish': 1, 'everything': 1, 'figureoutable': 1, 'made': 2, 'promise': 1, 'next': 1, 'level': 3, 'progress': 1, 'Perfection': 1, 'Prairie': 1, 'View': 1, 'Sandra': 1, 'Bland': 1, 'Smart': 1, 'Water': 1, 'Super': 4, 'Soul': 1, 'White': 2, 'Castle': 1, 'police': 4, 'assault': 1, 'turning': 1, 'signal': 1, 'Apple': 4, 'Carole': 2, 'Baskin': 2, 'Dead': 3, 'Body': 3, 'Exotic': 5, 'dirty': 1, 'John': 5, 'front': 2, 'hall': 2, 'pink': 3, 'loved': 1, 'animals': 1, 'second': 5, 'Gordon': 3, 'Championship': 1, 'Jackie': 2, 'Brown': 2, 'Once': 1, 'Upon': 2, 'Pulp': 1, 'Fiction': 1, 'Reservoir': 1, 'Dogs': 1, 'Rolling': 1, 'Stones': 1, 'Time': 1, 'big': 4, 'Lurch': 1, 'Nobel': 1, 'Prize': 1, 'bacon': 1, 'Scoville': 1, 'units': 1, 'ologies': 2, 'com': 6, 'jelly': 1, 'beans': 1, 'meal': 1, 'kits': 1, 'sodium': 1, 'hydroxide': 1, 'Facebook': 1, 'Instagram': 1, 'Scorpio': 2, 'chase': 1, 'family': 3, 'could': 1, 'hear': 1, 'haunted': 1, 'places': 1, 'search': 2, 'bar': 2, 'listen': 3, 'borne': 1, 'diseases': 1, 'borrelia': 1, 'burgdorferi': 1, 'conspiracy': 1, 'theory': 1, 'disseminated': 1, 'localized': 1, 'juvenile': 1, 'rheumatoid': 2, 'medical': 2, 'community': 1, 'arthritis': 1, 'half': 2, 'weeks': 1, 'honey': 1, 'book': 2, 'name': 1, 'strep': 1, 'throat': 1, 'Native': 2, 'Americans': 2, 'Netherland': 1, 'Rosetta': 1, 'Stone': 1, 'West': 1, 'India': 1, 'tellers': 2, 'southern': 1, 'tip': 1, 'sponsored': 1, 'van': 2, 'krieken': 1, 'era': 1, 'parte': 1, 'las': 2, 'cosas': 1, 'mujeres': 1, 'long': 2, 'mama': 1, 'dijo': 1, 'mother': 2, 'seventies': 1, 'natural': 1, 'hair': 1, 'pelo': 1, 'Malo': 1, 'pero': 1, 'ahora': 1, 'breast': 2, 'implants': 1, 'junkie': 1, 'episode': 4, 'sense': 2, 'piece': 2, 'evidence': 1, 'researching': 1, 'case': 3, 'Anonymous': 1, 'recommends': 1, 'Earth': 2, 'Mysteries': 1, 'around': 1, 'Paladin': 1, 'Rex': 1, 'feral': 1, 'bad': 1, 'bigger': 1, 'followed': 1, 'biggest': 2, 'end': 3, 'sure': 8, 'net': 2, 'worth': 2, 'nursing': 1, 'put': 3, 'together': 1, 'effects': 1, 'small': 2, 'doses': 1, 'MGM': 1, 'Studios': 1, 'Motley': 1, 'Fool': 1, 'Pitney': 2, 'Bowes': 1, 'online': 2, 'Ric': 1, 'Flair': 1, 'Ted': 2, 'Turner': 1, 'Vince': 1, 'McMahon': 1, 'business': 1, 'Wars': 1, 'purchase': 2, 'high': 7, 'somebody': 1, 'supporting': 1, 'girls': 1, 'thirst': 1, 'trap': 1, 'Judy': 1, 'Garland': 1, 'Michael': 1, 'Bristow': 1, 'Middle': 1, 'East': 2, 'Treasure': 1, 'Trove': 1, 'World': 3, 'Service': 2, 'round': 1, 'global': 1, 'BBC': 1, 'across': 1, 'border': 1, 'fairy': 1, 'tale': 1, 'hostile': 1, 'important': 2, 'muscular': 1, 'dystrophy': 1, 'romantic': 1, 'comedy': 1, 'wet': 1, 'cement': 1, 'brought': 1, 'Australian': 1, 'court': 1, 'appearance': 1, 'decision': 1, 'entitled': 1, 'presumption': 2, 'justice': 3, 'system': 2, 'guilty': 2, 'series': 1, 'innocence': 1, 'Electric': 1, 'Tiger': 1, 'Woods': 1, 'Under': 1, 'Armour': 1, 'billion': 2, 'direct': 2, 'Club': 1, 'intended': 1, 'serve': 1, 'smile': 1, 'steering': 1, 'wheel': 1, 'ticker': 1, 'symbol': 1, 'Marc': 1, 'smerling': 1, 'Southwest': 1, 'Ballad': 1, 'cowboy': 1, 'hat': 1, 'favorite': 1, 'parts': 1, 'light': 1, 'Asylum': 1, 'protection': 1, 'smart': 1, 'Twitter': 1, 'account': 1, 'Uganda': 1, 'knuckles': 1, 'milk': 1, 'funnel': 1, 'web': 1, 'practically': 1, 'attacked': 1, 'limits': 1, 'tick': 1, 'tock': 1, 'towards': 1, 'Security': 2, 'President': 1, 'Bush': 1, 'advisor': 1, '11th': 2, 'House': 1, 'foreign': 2, 'policy': 2, 'girl': 2, 'Suicide': 1, 'Prevention': 1, 'Trevor': 1, 'Project': 1, 'cause': 3, 'conversion': 1, 'therapy': 1, 'leading': 2, 'ago': 9, 'young': 3, 'Paul': 4, 'Kim': 2, 'Kardashian': 1, 'Jones': 1, 'party': 2, 'living': 2, 'Tommy': 3, 'bang': 1, 'energy': 2, 'four': 1, 'days': 3, 'function': 2, 'beauty': 2, 'reverse': 1, 'cowgirl': 1, 'silent': 1, 'treatment': 1, 'underneath': 1, 'Larry': 3, 'holder': 2, 'Orleans': 3, 'Saints': 1, 'Sports': 1, 'Bowl': 2, 'field': 1, 'goal': 1, 'trip': 1, 'Bear': 1, 'Brook': 1, 'Lyme': 1, 'disease': 1, 'Hampshire': 1, 'Taylor': 2, 'Quimby': 1, 'called': 1, 'patient': 2, 'index': 1, 'mystery': 1, 'zero': 1, 'Fox': 1, 'News': 1, 'bless': 1, 'steps': 2, 'hey': 2, 'advice': 1, 'survival': 1, 'item': 1, 'Melissa': 2, 'Clark': 1, 'along': 3, 'way': 3, 'heavy': 1, 'metal': 1, 'kitchen': 2, 'weeknight': 1, 'Jasmine': 1, 'Morris': 1, 'Lawrence': 1, 'horn': 1, 'Montgomery': 1, 'County': 1, 'elusive': 1, 'author': 1, 'iHeartRadio': 1, 'subscribe': 2, 'triple': 1, 'murder': 4, 'Lee': 2, 'Lewis': 1, 'NFL': 2, 'playoffs': 1, 'anticipated': 1, 'rematch': 1, 'podcasts': 3, '12th': 2, 'Goldman': 1, 'Nicole': 1, 'trial': 1, 'preview': 1, 'confronting': 2, 'unusually': 1, 'close': 1, 'walked': 1, 'crazy': 1, 'Conan': 3, 'OBrien': 1, 'Dana': 1, 'Carvey': 1, 'Sona': 1, 'movsesian': 1, 'Whole': 1, 'Foods': 1, 'bottomless': 1, 'pit': 1, 'drop': 2, 'tonight': 1, 'needs': 1, 'peanut': 1, 'butter': 1, 'Marilyn': 1, 'Manson': 1, 'bring': 1, 'heel': 1, 'ended': 2, 'illness': 2, 'talk': 3, 'trench': 1, 'coat': 1, 'games': 1, 'Lake': 2, 'Master': 1, 'colorist': 1, 'October': 1, '22nd': 1, 'Rug': 1, 'Doctor': 1, 'Salt': 1, 'Sarah': 1, 'Circle': 1, 'believe': 1, 'Josh': 2, 'cars': 1, 'blocks': 1, 'got': 1, 'impression': 1, 'Ali': 2, 'friendship': 1, 'fit': 1, 'pity': 1, 'porcelain': 1, 'doll': 1, 'Eddie': 1, 'Hearn': 1, 'Logan': 1, 'Trisha': 1, 'Paytas': 1, 'fashion': 1, 'Nova': 1, 'times': 1, 'see': 1, 'Stitcher': 2, 'premium': 1, 'executive': 1, 'producer': 1, 'might': 2, 'approach': 1, 'pay': 1, 'attention': 4, 'perception': 1, 'uniqueness': 1, 'Big': 2, 'prepare': 1, 'project': 1, 'set': 2, 'apart': 1, 'Cynthia': 2, 'erivo': 1, 'Dan': 1, 'blank': 1, 'Djokovic': 1, 'losartan': 1, 'Dustin': 1, 'yard': 1, 'blue': 2, 'carrier': 1, 'starring': 2, 'headphones': 1, 'For': 2, 'Hire': 1, 'Jeff': 1, 'Lowe': 1, 'Life': 1, 'Insurance': 3, 'Madison': 1, 'Reed': 2, 'fiends': 1, 'cats': 1, 'insurance': 1, 'Megan': 1, 'says': 1, 'Phyllis': 1, 'Gardner': 1, 'Rebecca': 1, 'Jarvis': 1, 'Francisco': 1, 'facing': 1, 'criminal': 2, 'Noah': 2, 'Harari': 1, 'Silicon': 1, 'Valley': 1, 'Yuval': 1, 'bus': 1, 'stop': 3, 'computer': 1, 'science': 2, 'guaranteed': 1, 'lifetime': 1, 'income': 2, 'retirement': 1, 'learn': 1, 'tiaa': 1, 'never': 2, 'run': 1, 'Clayton': 1, 'Kershaw': 1, 'Ron': 1, 'Burgundy': 1, 'batting': 1, 'practice': 1, 'brush': 1, 'jock': 1, 'itch': 1, 'monthly': 1, 'payments': 1, 'twice': 1, 'Payne': 2, 'Exposed': 1, 'Skin': 2, 'Gottlieb': 2, 'embarked': 1, 'Jody': 1, 'Lloyd': 1, 'Lockridge': 2, 'Telltale': 1, 'late': 1, 'seen': 1, 'self': 1, 'sad': 1, 'six': 1, 'reasons': 1, 'playing': 1, 'stopped': 1, 'using': 2, 'unlimited': 1, 'access': 1, 'words': 1, 'Carter': 1, 'Civil': 2, 'War': 1, 'Handmade': 1, 'Vodka': 1, 'Johnny': 2, 'Cash': 2, 'Ken': 2, 'Burns': 1, 'Mount': 1, 'Rushmore': 1, 'music': 2, 'mysterious': 1, 'disappearance': 1, 'Over': 1, 'Jersey': 1, 'Prime': 1, 'Minister': 1, 'background': 1, 'checks': 1, 'buyback': 1, 'program': 1, 'gun': 1, 'mass': 2, 'shootings': 1, 'Saturdays': 1, 'Sundays': 1, 'perhaps': 1, 'amount': 1, 'adds': 1, 'scare': 1, 'destroying': 1, 'environment': 1, 'much': 3, 'price': 2, 'Owens': 1, 'show': 4, 'Wikipedia': 1, 'page': 1, 'absolutely': 1, 'nothing': 1, 'officers': 2, 'white': 2, 'Feinberg': 1, 'Pushkin': 1, 'Industries': 1, 'Wall': 2, 'fall': 1, 'love': 1, 'strike': 1, 'zone': 1, 'Florence': 1, 'Williams': 2, 'Forest': 1, 'bathing': 1, 'happier': 1, 'healthier': 2, 'creative': 1, 'priority': 1, 'think': 1, 'walk': 1, 'woods': 1, 'rate': 1, 'Bernardino': 1, 'back': 3, 'miles': 1, 'away': 2, 'paying': 2, 'pretty': 1, 'serial': 1, 'killer': 1, 'part': 1, 'process': 1, 'pocket': 1, 'cool': 2, 'exciting': 1, 'Dear': 1, 'America': 2, 'offer': 1, 'vast': 1, 'majority': 1, 'banana': 1, 'bread': 1, 'stupid': 2, 'corn': 1, 'cob': 1, 'horoscope': 1, 'genius': 1, 'Rice': 1, 'University': 2, 'SCE': 1, 'aux': 1, 'Space': 1, 'Station': 1, 'commercial': 1, 'providers': 1, 'center': 1, 'flight': 2, 'controller': 1, 'director': 1, 'lunar': 1, 'module': 1, 'First': 1, 'Responders': 1, 'Jared': 1, 'Sagal': 1, 'Soviet': 1, 'Union': 1, 'Media': 1, 'nuclear': 2, 'reactor': 1, 'Danielle': 1, 'Dorothy': 1, 'May': 1, '23rd': 1, 'convenience': 1, 'store': 3, 'feeling': 1, 'well': 1, 'time': 2, 'cigarettes': 1, 'since': 1, 'sunizona': 1, 'Arizona': 1, 'walking': 1, 'Harmon': 2, 'Institute': 3, 'Technology': 1, 'Justin': 1, 'Long': 1, 'Zealand': 1, 'ding': 1, 'dong': 1, 'Kelley': 1, 'Los': 2, 'Angeles': 2, 'Rick': 1, 'Singer': 1, 'admission': 1, 'Scandal': 1, 'college': 1, 'admissions': 1, 'attorney': 1, 'gangster': 1, 'capitalism': 1, 'jail': 1, 'three': 1, 'Millennial': 1, 'marriages': 1, 'Pie': 1, 'cast': 1, 'always': 1, 'gotten': 1, 'right': 1, 'credit': 1, 'card': 1, 'Maryland': 1, 'bone': 1, 'marrow': 2, 'suppression': 1, 'power': 2, 'plants': 1, 'quality': 2, 'logo': 1, 'medicine': 1, 'Rules': 1, 'Casualty': 1, 'Gold': 1, 'Rush': 1, 'Horrors': 1, 'heroics': 1, 'company': 1, 'Name': 1, 'Your': 1, 'Price': 1, 'tool': 1, 'Wayland': 1, 'Productions': 1, 'mad': 1, 'Harmony': 1, 'Coast': 2, 'Notorious': 1, 'BIG': 1, 'Puff': 1, 'Daddy': 2, 'Row': 1, 'Records': 1, 'Suge': 1, 'Knight': 1, 'Vanilla': 1, 'Ice': 1, 'dark': 1, 'Chelsea': 1, 'grocery': 1, 'mobile': 1, 'intention': 1, 'Disney': 1, 'Great': 2, 'Courses': 1, 'married': 1, 'mouse': 1, 'nice': 1, 'try': 1, 'test': 1, 'drive': 1, 'Rights': 3, 'Movement': 1, 'Voting': 1, 'library': 1, 'Clyde': 2, 'Avenue': 1, 'Lakes': 1, 'Levine': 1, 'Linda': 1, 'look': 1, 'via': 1, 'Legend': 1, 'Loretta': 1, 'Lynch': 1, 'Sing': 1, 'Correctional': 1, 'Without': 1, 'Borders': 1, 'behind': 2, 'bars': 1, 'jails': 1, 'prisons': 1, 'incarceration': 1, 'adulting': 1, 'counselors': 1, 'specialize': 1, 'depression': 1, 'stress': 2, 'fill': 1, 'questionnaire': 1, 'offering': 1, 'licensed': 1, 'anxiety': 1, 'sessions': 1, 'Tipping': 1, 'Point': 1, 'customer': 1, 'satisfaction': 1, 'extremely': 1, 'renewable': 1, 'seven': 1, 'solar': 1, 'panels': 1, 'Doyle': 2, 'Harry': 2, 'Houdini': 2, 'Sherlock': 2, 'Holmes': 2, 'demolish': 1, 'arguments': 1, 'great': 3, 'deal': 4, 'motivated': 2, 'reasoning': 2, 'interagency': 1, 'Listener': 1, 'Wild': 1, 'Spaces': 1, 'catastrophic': 1, 'destroyed': 1, 'percent': 1, 'contained': 1, 'west': 1, 'Cascades': 1, 'wood': 1, 'products': 1, 'Michelle': 1, 'draconis': 1, 'Canaan': 1, 'charged': 1, 'garbage': 1, 'bags': 1, 'license': 1, 'plate': 1, 'five': 1, 'picture': 1, 'Goldwater': 1, 'Indian': 1, 'Child': 1, 'Carolina': 2, 'baby': 1, 'Veronica': 1, 'based': 1, 'race': 1, 'citizen': 1, 'Cherokee': 1, '80s': 1, 'avoiding': 1, 'Against': 1, 'Cage': 2, 'Anna': 1, 'Book': 1, 'Ecclesiastes': 1, 'inches': 1, 'California': 2, '1970s': 1, 'Fort': 1, 'Worth': 1, 'Damon': 1, 'scenes': 1, 'opener': 1, 'forwards': 1, 'Bang': 1, 'originator': 1, 'Bianco': 1, 'recorded': 1, 'Lights': 1, 'Stellar': 1, 'explosions': 1, 'create': 2, 'transformational': 2, 'entire': 1, 'universe': 1, 'Solutions': 1, 'Winston': 1, 'Churchill': 1, 'aircraft': 1, 'carriers': 1, 'world': 3, 'war': 1, 'Knee': 1, 'Defender': 1, 'cardboard': 1, 'box': 2, 'childhood': 2, 'education': 1, 'parking': 1, 'olds': 1, 'Elevation': 1, 'Church': 2, 'Tulsa': 1, 'Oklahoma': 1, 'felt': 1, 'heard': 1, 'master': 1, 'key': 1, 'Guard': 1, 'Las': 1, 'Vegas': 1, 'Moth': 2, 'Radio': 4, 'Muhammad': 1, 'Hour': 2, 'Sam': 1, 'Adams': 1, 'blood': 1, 'vessels': 1, 'heart': 1, 'poster': 1, 'fruits': 1, 'vegetables': 1, 'non': 1, 'subtropical': 1, 'orange': 1, 'juice': 1, 'short': 1, 'stuff': 1, 'Fruit': 2, 'Company': 1, 'Guatemalan': 1, 'Intelligence': 1, 'Agency': 1, 'Liberation': 3, 'Army': 1, 'elected': 1, 'president': 1, 'voice': 1, 'King': 1, 'StarTalk': 2, 'radio': 2, 'books': 1, 'pop': 1, 'culture': 1, 'protein': 1, 'powder': 1, 'ask': 1, 'Ethan': 1, 'Bernstein': 1, 'Fortune': 1, '500': 1, 'Freakonomics': 1, 'Herman': 1, 'Robert': 1, 'Probst': 1, 'Farm': 1, 'Office': 1, 'offices': 1, 'working': 1, 'Donnell': 2, 'Garden': 1, 'Phelps': 1, 'Roman': 1, 'Mars': 1, 'Southern': 1, 'Story': 1, 'Goes': 1, 'Thomas': 1, 'forth': 1, 'eliel': 1, 'Saarinen': 1, 'Bill': 1, 'Belichick': 1, 'Dallas': 1, 'Cowboys': 1, 'Dollar': 1, 'Shave': 1, 'Drew': 1, 'Rosenhaus': 1, 'Lamar': 1, 'Jackson': 1, 'Oakland': 1, 'Raiders': 1, 'Debate': 1, 'JonBenet': 1, 'Ramsey': 1, 'flat': 1, 'hero': 1, 'hunting': 1, 'mountain': 1, 'lion': 1, 'DeRosa': 1, 'Morning': 1, 'cares': 1, 'butcher': 1, 'excessive': 1, 'sweating': 1, 'proven': 1, 'sweat': 1, 'glands': 1, 'Rawlings': 1, 'Grant': 1, 'Cardone': 1, 'Honda': 1, 'Accord': 1, 'Wayne': 1, 'fried': 1, 'chicken': 1, 'estate': 3, 'Magda': 1, 'sayeg': 1, 'TED': 1, 'stage': 1, 'Teddy': 1, 'Roosevelt': 1, 'Titus': 1, 'kaphar': 1, 'pole': 1, 'investor': 1, 'pool': 1, 'track': 1, 'record': 1, 'Com': 1, 'Jacob': 1, 'Leaf': 2, 'dedicated': 1, 'Neverwinter': 1, 'agenda': 1, 'area': 1, 'shiny': 1, 'millionaire': 2, 'morning': 1, 'nonprofit': 1, 'leadership': 1, 'Malik': 1, 'Yoba': 1, 'Meghan': 1, 'Trainor': 1, 'Taco': 1, 'Tuesday': 1, 'character': 1, 'creation': 1, 'space': 1, 'basic': 1, 'basketball': 1, 'players': 1, 'confirmation': 1, 'bias': 1, 'facial': 1, 'expressions': 1, 'grid': 1, 'cells': 1, 'cognition': 1, 'mirror': 1, 'neurons': 1, 'direction': 1, 'spatial': 1, 'thinking': 1, 'Financial': 1, 'everyday': 1, 'household': 1, 'mutual': 1, 'funds': 1, 'hour': 1, 'tuft': 1, 'needle': 1, 'Utica': 1, 'Police': 1, 'hits': 1, 'keep': 1, 'safe': 1, 'Haven': 1, 'klopfer': 1, 'attempted': 1, 'judge': 1, 'infant': 1, 'bonding': 1, 'lemur': 1, 'Center': 2, 'letters': 1, 'friends': 1, 'Robinson': 1, 'Merle': 1, 'Haggard': 1, 'Sunday': 1, 'athletic': 1, 'greens': 1, 'sick': 1, 'indoor': 1, 'cycling': 1, 'Justice': 1, 'Quicken': 1, 'Loans': 1, 'adult': 1, 'prison': 1, 'custom': 3, 'domain': 1, 'protective': 1, 'custody': 1, 'rocket': 1, 'mortgage': 1, 'bottom': 1, 'feed': 1, 'church': 1, 'come': 1, 'sale': 1, 'savings': 1, 'thrift': 1, 'Red': 1, 'Sea': 1, 'Skyway': 1, 'vehicle': 1, 'Ten': 1, 'Commandments': 1, 'certified': 1, 'doctors': 1, 'coloring': 1, 'invisibilia': 1, 'drowning': 1, 'tears': 1, 'elephant': 1, 'Pym': 1, 'Nottingham': 1, 'Galley': 1, 'Richard': 2, 'Parker': 1, 'sea': 1, 'possible': 1, 'man': 2, 'named': 2, 'expect': 1, 'Mexico': 1, 'Padre': 2, 'Rio': 1, 'Grande': 1, 'Sara': 1, 'Aldrete': 1, 'file': 1, 'rancho': 1, 'santa': 2, 'elena': 1}\n"
     ]
    }
   ],
   "source": [
    "print(topicDictionary)"
   ]
  },
  {
   "cell_type": "code",
   "execution_count": 134,
   "metadata": {},
   "outputs": [],
   "source": [
    "topicDictionaryList = []\n",
    "\n",
    "for key in topicDictionary:\n",
    "    mylist = [key, topicDictionary[key]]\n",
    "    topicDictionaryList.append(mylist)\n",
    "dfTopic = pd.DataFrame(topicDictionaryList)"
   ]
  },
  {
   "cell_type": "code",
   "execution_count": 135,
   "metadata": {},
   "outputs": [
    {
     "data": {
      "text/html": [
       "<div>\n",
       "<style scoped>\n",
       "    .dataframe tbody tr th:only-of-type {\n",
       "        vertical-align: middle;\n",
       "    }\n",
       "\n",
       "    .dataframe tbody tr th {\n",
       "        vertical-align: top;\n",
       "    }\n",
       "\n",
       "    .dataframe thead th {\n",
       "        text-align: right;\n",
       "    }\n",
       "</style>\n",
       "<table border=\"1\" class=\"dataframe\">\n",
       "  <thead>\n",
       "    <tr style=\"text-align: right;\">\n",
       "      <th></th>\n",
       "      <th>0</th>\n",
       "      <th>1</th>\n",
       "    </tr>\n",
       "  </thead>\n",
       "  <tbody>\n",
       "    <tr>\n",
       "      <td>0</td>\n",
       "      <td>Shannon</td>\n",
       "      <td>2</td>\n",
       "    </tr>\n",
       "    <tr>\n",
       "      <td>1</td>\n",
       "      <td>Johnson</td>\n",
       "      <td>2</td>\n",
       "    </tr>\n",
       "    <tr>\n",
       "      <td>2</td>\n",
       "      <td>ball</td>\n",
       "      <td>4</td>\n",
       "    </tr>\n",
       "    <tr>\n",
       "      <td>3</td>\n",
       "      <td>moving</td>\n",
       "      <td>1</td>\n",
       "    </tr>\n",
       "    <tr>\n",
       "      <td>4</td>\n",
       "      <td>equal</td>\n",
       "      <td>1</td>\n",
       "    </tr>\n",
       "  </tbody>\n",
       "</table>\n",
       "</div>"
      ],
      "text/plain": [
       "         0  1\n",
       "0  Shannon  2\n",
       "1  Johnson  2\n",
       "2     ball  4\n",
       "3   moving  1\n",
       "4    equal  1"
      ]
     },
     "execution_count": 135,
     "metadata": {},
     "output_type": "execute_result"
    }
   ],
   "source": [
    "dfTopic.head()"
   ]
  },
  {
   "cell_type": "code",
   "execution_count": 136,
   "metadata": {},
   "outputs": [],
   "source": [
    "dfTopic.columns = [\"Topics\",\"Occurrence\"]"
   ]
  },
  {
   "cell_type": "code",
   "execution_count": 137,
   "metadata": {},
   "outputs": [
    {
     "name": "stdout",
     "output_type": "stream",
     "text": [
      "1649\n"
     ]
    }
   ],
   "source": [
    "print(len(dfTopic))"
   ]
  },
  {
   "cell_type": "code",
   "execution_count": 138,
   "metadata": {},
   "outputs": [
    {
     "name": "stdout",
     "output_type": "stream",
     "text": [
      "165\n"
     ]
    }
   ],
   "source": [
    "import math\n",
    "topTenPercentTopics = math.ceil(len(dfTopic)*0.1)\n",
    "print(topTenPercentTopics)"
   ]
  },
  {
   "cell_type": "code",
   "execution_count": 139,
   "metadata": {},
   "outputs": [],
   "source": [
    "dfTopic = dfTopic.sort_values(by=[\"Occurrence\"], ascending=False)"
   ]
  },
  {
   "cell_type": "code",
   "execution_count": 140,
   "metadata": {},
   "outputs": [
    {
     "data": {
      "text/html": [
       "<div>\n",
       "<style scoped>\n",
       "    .dataframe tbody tr th:only-of-type {\n",
       "        vertical-align: middle;\n",
       "    }\n",
       "\n",
       "    .dataframe tbody tr th {\n",
       "        vertical-align: top;\n",
       "    }\n",
       "\n",
       "    .dataframe thead th {\n",
       "        text-align: right;\n",
       "    }\n",
       "</style>\n",
       "<table border=\"1\" class=\"dataframe\">\n",
       "  <thead>\n",
       "    <tr style=\"text-align: right;\">\n",
       "      <th></th>\n",
       "      <th>Topics</th>\n",
       "      <th>Occurrence</th>\n",
       "    </tr>\n",
       "  </thead>\n",
       "  <tbody>\n",
       "    <tr>\n",
       "      <td>13</td>\n",
       "      <td>little</td>\n",
       "      <td>44</td>\n",
       "    </tr>\n",
       "    <tr>\n",
       "      <td>14</td>\n",
       "      <td>bit</td>\n",
       "      <td>41</td>\n",
       "    </tr>\n",
       "    <tr>\n",
       "      <td>38</td>\n",
       "      <td>New</td>\n",
       "      <td>38</td>\n",
       "    </tr>\n",
       "    <tr>\n",
       "      <td>39</td>\n",
       "      <td>York</td>\n",
       "      <td>31</td>\n",
       "    </tr>\n",
       "    <tr>\n",
       "      <td>212</td>\n",
       "      <td>code</td>\n",
       "      <td>18</td>\n",
       "    </tr>\n",
       "    <tr>\n",
       "      <td>...</td>\n",
       "      <td>...</td>\n",
       "      <td>...</td>\n",
       "    </tr>\n",
       "    <tr>\n",
       "      <td>809</td>\n",
       "      <td>milk</td>\n",
       "      <td>1</td>\n",
       "    </tr>\n",
       "    <tr>\n",
       "      <td>808</td>\n",
       "      <td>knuckles</td>\n",
       "      <td>1</td>\n",
       "    </tr>\n",
       "    <tr>\n",
       "      <td>807</td>\n",
       "      <td>Uganda</td>\n",
       "      <td>1</td>\n",
       "    </tr>\n",
       "    <tr>\n",
       "      <td>806</td>\n",
       "      <td>account</td>\n",
       "      <td>1</td>\n",
       "    </tr>\n",
       "    <tr>\n",
       "      <td>1648</td>\n",
       "      <td>elena</td>\n",
       "      <td>1</td>\n",
       "    </tr>\n",
       "  </tbody>\n",
       "</table>\n",
       "<p>1649 rows × 2 columns</p>\n",
       "</div>"
      ],
      "text/plain": [
       "        Topics  Occurrence\n",
       "13      little          44\n",
       "14         bit          41\n",
       "38         New          38\n",
       "39        York          31\n",
       "212       code          18\n",
       "...        ...         ...\n",
       "809       milk           1\n",
       "808   knuckles           1\n",
       "807     Uganda           1\n",
       "806    account           1\n",
       "1648     elena           1\n",
       "\n",
       "[1649 rows x 2 columns]"
      ]
     },
     "execution_count": 140,
     "metadata": {},
     "output_type": "execute_result"
    }
   ],
   "source": [
    "dfTopic"
   ]
  },
  {
   "cell_type": "code",
   "execution_count": 141,
   "metadata": {},
   "outputs": [],
   "source": [
    "topicColumn = []\n",
    "for i in range(len(dfTopic)):\n",
    "    if i < topTenPercentTopics-1:\n",
    "        topicColumn.append(1)\n",
    "    else:\n",
    "        topicColumn.append(0)"
   ]
  },
  {
   "cell_type": "code",
   "execution_count": 142,
   "metadata": {},
   "outputs": [
    {
     "data": {
      "text/html": [
       "<div>\n",
       "<style scoped>\n",
       "    .dataframe tbody tr th:only-of-type {\n",
       "        vertical-align: middle;\n",
       "    }\n",
       "\n",
       "    .dataframe tbody tr th {\n",
       "        vertical-align: top;\n",
       "    }\n",
       "\n",
       "    .dataframe thead th {\n",
       "        text-align: right;\n",
       "    }\n",
       "</style>\n",
       "<table border=\"1\" class=\"dataframe\">\n",
       "  <thead>\n",
       "    <tr style=\"text-align: right;\">\n",
       "      <th></th>\n",
       "      <th>Topics</th>\n",
       "      <th>Occurrence</th>\n",
       "      <th>Trendy</th>\n",
       "    </tr>\n",
       "  </thead>\n",
       "  <tbody>\n",
       "    <tr>\n",
       "      <td>13</td>\n",
       "      <td>little</td>\n",
       "      <td>44</td>\n",
       "      <td>1</td>\n",
       "    </tr>\n",
       "    <tr>\n",
       "      <td>14</td>\n",
       "      <td>bit</td>\n",
       "      <td>41</td>\n",
       "      <td>1</td>\n",
       "    </tr>\n",
       "    <tr>\n",
       "      <td>38</td>\n",
       "      <td>New</td>\n",
       "      <td>38</td>\n",
       "      <td>1</td>\n",
       "    </tr>\n",
       "    <tr>\n",
       "      <td>39</td>\n",
       "      <td>York</td>\n",
       "      <td>31</td>\n",
       "      <td>1</td>\n",
       "    </tr>\n",
       "    <tr>\n",
       "      <td>212</td>\n",
       "      <td>code</td>\n",
       "      <td>18</td>\n",
       "      <td>1</td>\n",
       "    </tr>\n",
       "    <tr>\n",
       "      <td>...</td>\n",
       "      <td>...</td>\n",
       "      <td>...</td>\n",
       "      <td>...</td>\n",
       "    </tr>\n",
       "    <tr>\n",
       "      <td>809</td>\n",
       "      <td>milk</td>\n",
       "      <td>1</td>\n",
       "      <td>0</td>\n",
       "    </tr>\n",
       "    <tr>\n",
       "      <td>808</td>\n",
       "      <td>knuckles</td>\n",
       "      <td>1</td>\n",
       "      <td>0</td>\n",
       "    </tr>\n",
       "    <tr>\n",
       "      <td>807</td>\n",
       "      <td>Uganda</td>\n",
       "      <td>1</td>\n",
       "      <td>0</td>\n",
       "    </tr>\n",
       "    <tr>\n",
       "      <td>806</td>\n",
       "      <td>account</td>\n",
       "      <td>1</td>\n",
       "      <td>0</td>\n",
       "    </tr>\n",
       "    <tr>\n",
       "      <td>1648</td>\n",
       "      <td>elena</td>\n",
       "      <td>1</td>\n",
       "      <td>0</td>\n",
       "    </tr>\n",
       "  </tbody>\n",
       "</table>\n",
       "<p>1649 rows × 3 columns</p>\n",
       "</div>"
      ],
      "text/plain": [
       "        Topics  Occurrence  Trendy\n",
       "13      little          44       1\n",
       "14         bit          41       1\n",
       "38         New          38       1\n",
       "39        York          31       1\n",
       "212       code          18       1\n",
       "...        ...         ...     ...\n",
       "809       milk           1       0\n",
       "808   knuckles           1       0\n",
       "807     Uganda           1       0\n",
       "806    account           1       0\n",
       "1648     elena           1       0\n",
       "\n",
       "[1649 rows x 3 columns]"
      ]
     },
     "execution_count": 142,
     "metadata": {},
     "output_type": "execute_result"
    }
   ],
   "source": [
    "dfTopic[\"Trendy\"] = topicColumn\n",
    "dfTopic"
   ]
  },
  {
   "cell_type": "code",
   "execution_count": 143,
   "metadata": {},
   "outputs": [],
   "source": [
    "dfTopic = dfTopic.sample(frac=1)"
   ]
  },
  {
   "cell_type": "code",
   "execution_count": 147,
   "metadata": {},
   "outputs": [],
   "source": [
    "asciiNumbers = []\n",
    "for index, row in dfTopic.iterrows():\n",
    "    number = int(''.join(str(ord(c)) for c in row[\"Topics\"]))\n",
    "    asciiNumbers.append(number)\n",
    "dfTopic[\"Ascii\"] = asciiNumbers"
   ]
  },
  {
   "cell_type": "code",
   "execution_count": 148,
   "metadata": {},
   "outputs": [
    {
     "data": {
      "text/html": [
       "<div>\n",
       "<style scoped>\n",
       "    .dataframe tbody tr th:only-of-type {\n",
       "        vertical-align: middle;\n",
       "    }\n",
       "\n",
       "    .dataframe tbody tr th {\n",
       "        vertical-align: top;\n",
       "    }\n",
       "\n",
       "    .dataframe thead th {\n",
       "        text-align: right;\n",
       "    }\n",
       "</style>\n",
       "<table border=\"1\" class=\"dataframe\">\n",
       "  <thead>\n",
       "    <tr style=\"text-align: right;\">\n",
       "      <th></th>\n",
       "      <th>Topics</th>\n",
       "      <th>Occurrence</th>\n",
       "      <th>Trendy</th>\n",
       "      <th>Ascii</th>\n",
       "    </tr>\n",
       "  </thead>\n",
       "  <tbody>\n",
       "    <tr>\n",
       "      <td>398</td>\n",
       "      <td>cup</td>\n",
       "      <td>1</td>\n",
       "      <td>0</td>\n",
       "      <td>99117112</td>\n",
       "    </tr>\n",
       "    <tr>\n",
       "      <td>262</td>\n",
       "      <td>Scott</td>\n",
       "      <td>1</td>\n",
       "      <td>0</td>\n",
       "      <td>8399111116116</td>\n",
       "    </tr>\n",
       "    <tr>\n",
       "      <td>510</td>\n",
       "      <td>sexually</td>\n",
       "      <td>1</td>\n",
       "      <td>0</td>\n",
       "      <td>11510112011797108108121</td>\n",
       "    </tr>\n",
       "    <tr>\n",
       "      <td>828</td>\n",
       "      <td>Prevention</td>\n",
       "      <td>1</td>\n",
       "      <td>0</td>\n",
       "      <td>80114101118101110116105111110</td>\n",
       "    </tr>\n",
       "    <tr>\n",
       "      <td>1514</td>\n",
       "      <td>fried</td>\n",
       "      <td>1</td>\n",
       "      <td>0</td>\n",
       "      <td>102114105101100</td>\n",
       "    </tr>\n",
       "    <tr>\n",
       "      <td>...</td>\n",
       "      <td>...</td>\n",
       "      <td>...</td>\n",
       "      <td>...</td>\n",
       "      <td>...</td>\n",
       "    </tr>\n",
       "    <tr>\n",
       "      <td>544</td>\n",
       "      <td>also</td>\n",
       "      <td>1</td>\n",
       "      <td>0</td>\n",
       "      <td>97108115111</td>\n",
       "    </tr>\n",
       "    <tr>\n",
       "      <td>884</td>\n",
       "      <td>Melissa</td>\n",
       "      <td>2</td>\n",
       "      <td>0</td>\n",
       "      <td>7710110810511511597</td>\n",
       "    </tr>\n",
       "    <tr>\n",
       "      <td>682</td>\n",
       "      <td>natural</td>\n",
       "      <td>1</td>\n",
       "      <td>0</td>\n",
       "      <td>1109711611711497108</td>\n",
       "    </tr>\n",
       "    <tr>\n",
       "      <td>277</td>\n",
       "      <td>Evans</td>\n",
       "      <td>1</td>\n",
       "      <td>0</td>\n",
       "      <td>6911897110115</td>\n",
       "    </tr>\n",
       "    <tr>\n",
       "      <td>1237</td>\n",
       "      <td>logo</td>\n",
       "      <td>1</td>\n",
       "      <td>0</td>\n",
       "      <td>108111103111</td>\n",
       "    </tr>\n",
       "  </tbody>\n",
       "</table>\n",
       "<p>1649 rows × 4 columns</p>\n",
       "</div>"
      ],
      "text/plain": [
       "          Topics  Occurrence  Trendy                          Ascii\n",
       "398          cup           1       0                       99117112\n",
       "262        Scott           1       0                  8399111116116\n",
       "510     sexually           1       0        11510112011797108108121\n",
       "828   Prevention           1       0  80114101118101110116105111110\n",
       "1514       fried           1       0                102114105101100\n",
       "...          ...         ...     ...                            ...\n",
       "544         also           1       0                    97108115111\n",
       "884      Melissa           2       0            7710110810511511597\n",
       "682      natural           1       0            1109711611711497108\n",
       "277        Evans           1       0                  6911897110115\n",
       "1237        logo           1       0                   108111103111\n",
       "\n",
       "[1649 rows x 4 columns]"
      ]
     },
     "execution_count": 148,
     "metadata": {},
     "output_type": "execute_result"
    }
   ],
   "source": [
    "dfTopic"
   ]
  },
  {
   "cell_type": "code",
   "execution_count": 145,
   "metadata": {},
   "outputs": [],
   "source": [
    "import numpy as np"
   ]
  },
  {
   "cell_type": "code",
   "execution_count": 146,
   "metadata": {},
   "outputs": [
    {
     "name": "stdout",
     "output_type": "stream",
     "text": [
      "(1319, 2)\n",
      "(1319,)\n",
      "Test Score:  -0.010845513569204934\n"
     ]
    },
    {
     "data": {
      "image/png": "[encoded data removed]",
      "text/plain": [
       "<Figure size 432x288 with 1 Axes>"
      ]
     },
     "metadata": {
      "needs_background": "light"
     },
     "output_type": "display_data"
    }
   ],
   "source": [
    "labels = np.array(dfTopic['Trendy'])\n",
    "features = np.array(dfTopic.drop(columns=[\"Topics\",\"Trendy\"]))\n",
    "from sklearn import datasets, linear_model\n",
    "from sklearn.model_selection import train_test_split\n",
    "from matplotlib import pyplot as plt\n",
    "x_train, x_test, y_train, y_test = train_test_split(features,labels,test_size=0.2)\n",
    "print(x_train.shape)\n",
    "print(y_train.shape)\n",
    "lm = linear_model.LinearRegression()\n",
    "model = lm.fit(x_train,y_train)\n",
    "predictions = lm.predict(x_test)\n",
    "plt.scatter(y_test,predictions)\n",
    "plt.xlabel(\"True Values\")\n",
    "plt.ylabel(\"Predictions\")\n",
    "print(\"Test Score: \", lm.score(x_test,y_test))"
   ]
  },
  {
   "cell_type": "code",
   "execution_count": null,
   "metadata": {},
   "outputs": [],
   "source": []
  }
 ],
 "metadata": {
  "kernelspec": {
   "display_name": "Python 3",
   "language": "python",
   "name": "python3"
  },
  "language_info": {
   "codemirror_mode": {
    "name": "ipython",
    "version": 3
   },
   "file_extension": ".py",
   "mimetype": "text/x-python",
   "name": "python",
   "nbconvert_exporter": "python",
   "pygments_lexer": "ipython3",
   "version": "3.7.4"
  }
 },
 "nbformat": 4,
 "nbformat_minor": 2
}
