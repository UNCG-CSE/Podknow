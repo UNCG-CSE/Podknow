{
 "cells": [
  {
   "cell_type": "markdown",
   "metadata": {},
   "source": [
    "#Code to upload a folder into google cloud \n",
    "#linking gcp json key\n",
    "#assigning the bucket for transfer"
   ]
  },
  {
   "cell_type": "code",
   "execution_count": 58,
   "metadata": {},
   "outputs": [],
   "source": [
    "import os\n",
    "import os.path\n",
    "from os import listdir\n",
    "import google.cloud.storage\n",
    "storage_client = google.cloud.storage.Client.from_service_account_json(r'C:\\Users\\Harini\\Downloads\\speechtotxt\\SpeechTextForPodcast-9e3867fb28d7.json')\n",
    "bucket = storage_client.get_bucket('final_transripts')"
   ]
  },
  {
   "cell_type": "markdown",
   "metadata": {},
   "source": [
    "#localpath is the folder path from which the data needs to be uploaded.\n"
   ]
  },
  {
   "cell_type": "code",
   "execution_count": 59,
   "metadata": {},
   "outputs": [],
   "source": [
    "localpath = 'C:\\\\Users\\\\Harini\\\\Final_Transcripts\\\\gcsst\\\\raw'\n"
   ]
  },
  {
   "cell_type": "markdown",
   "metadata": {},
   "source": [
    "#creating a folder(in this case FinalTranscripts) in google cloud and uploading the files to the cloud."
   ]
  },
  {
   "cell_type": "code",
   "execution_count": 62,
   "metadata": {},
   "outputs": [],
   "source": [
    "files = [f for f in listdir(localpath)]\n",
    "for file in files:\n",
    "    localFile = os.path.join(localpath , file)\n",
    "    d = 'FinalTransripts/'\n",
    "    blob = bucket.blob(d + file)\n",
    "    blob.upload_from_filename(localFile)\n",
    "\n",
    "    \n",
    "        "
   ]
  }
 ],
 "metadata": {
  "kernelspec": {
   "display_name": "Python 3",
   "language": "python",
   "name": "python3"
  },
  "language_info": {
   "codemirror_mode": {
    "name": "ipython",
    "version": 3
   },
   "file_extension": ".py",
   "mimetype": "text/x-python",
   "name": "python",
   "nbconvert_exporter": "python",
   "pygments_lexer": "ipython3",
   "version": "3.7.3"
  }
 },
 "nbformat": 4,
 "nbformat_minor": 2
}
